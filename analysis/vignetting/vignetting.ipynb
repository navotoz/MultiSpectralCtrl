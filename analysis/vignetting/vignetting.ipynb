{
 "cells": [
  {
   "cell_type": "markdown",
   "metadata": {},
   "source": [
    "# Imports"
   ]
  },
  {
   "cell_type": "code",
   "execution_count": null,
   "metadata": {
    "collapsed": false,
    "jupyter": {
     "outputs_hidden": false
    },
    "pycharm": {
     "name": "#%%\n"
    }
   },
   "outputs": [],
   "source": [
    "# automaticlly updates imported methods when they change\n",
    "%load_ext autoreload\n",
    "%autoreload 2"
   ]
  },
  {
   "cell_type": "code",
   "execution_count": null,
   "metadata": {
    "collapsed": false,
    "jupyter": {
     "outputs_hidden": false
    },
    "pycharm": {
     "name": "#%%\n"
    }
   },
   "outputs": [],
   "source": [
    "# %%\n",
    "import sys\n",
    "from pathlib import Path\n",
    "sys.path.append(str(Path.cwd().parent.parent.parent))\n",
    "from IPython import get_ipython\n",
    "from plots import plot_meas_vs_bb, plot_surface_fit\n",
    "from tools import radius, fit_surface\n",
    "from tqdm import tqdm\n",
    "from multiprocessing import Pool, cpu_count\n",
    "import threading as th\n",
    "from functools import partial\n",
    "import matplotlib.pyplot as plt\n",
    "import numpy as np\n",
    "import pandas as pd"
   ]
  },
  {
   "cell_type": "markdown",
   "metadata": {},
   "source": [
    "---"
   ]
  },
  {
   "cell_type": "markdown",
   "metadata": {},
   "source": [
    "# Load measurements"
   ]
  },
  {
   "cell_type": "markdown",
   "metadata": {},
   "source": [
    "## Set path to the data"
   ]
  },
  {
   "cell_type": "code",
   "execution_count": null,
   "metadata": {
    "collapsed": false,
    "jupyter": {
     "outputs_hidden": false
    },
    "pycharm": {
     "name": "#%%\n"
    }
   },
   "outputs": [],
   "source": [
    "path = Path().cwd()\n",
    "while 'Multi' not in path.name:\n",
    "    path = path.parent\n",
    "PATH_TO_LOGS = path / 'data' / 'meas'"
   ]
  },
  {
   "cell_type": "markdown",
   "metadata": {},
   "source": [
    "## Load"
   ]
  },
  {
   "cell_type": "code",
   "execution_count": null,
   "metadata": {
    "collapsed": false,
    "jupyter": {
     "outputs_hidden": false
    },
    "pycharm": {
     "name": "#%%\n"
    }
   },
   "outputs": [],
   "source": [
    "def _loader(path):\n",
    "    return str(path).split(\"\\\\\")[-1], np.load(path)[2]\n",
    "\n",
    "paths = list(PATH_TO_LOGS.glob('*.npy'))\n",
    "with Pool(cpu_count()) as pool:\n",
    "        loaded_data = list(tqdm(pool.imap(_loader, paths), desc='Loading data', total=len(paths)))\n",
    "loaded_data = sorted(loaded_data, key=lambda x: x[0])\n",
    "\n",
    "measurements = {}\n",
    "with tqdm(total=len(loaded_data), desc='Parsing loaded data') as pbar:\n",
    "    while loaded_data:\n",
    "        name, image = loaded_data.pop()\n",
    "        t_bb = int(name.split('_')[-1][:2])\n",
    "        measurements.setdefault(t_bb, image.squeeze())\n",
    "        pbar.update()\n",
    "measurements = {k: measurements[k] for k in sorted(measurements)}\n",
    "list_bb = list(measurements.keys())"
   ]
  },
  {
   "cell_type": "code",
   "execution_count": null,
   "metadata": {
    "collapsed": false,
    "jupyter": {
     "outputs_hidden": false
    },
    "pycharm": {
     "name": "#%%\n"
    }
   },
   "outputs": [],
   "source": [
    "# get the random pixel across frames and temperature\n",
    "import pandas as pd\n",
    "import seaborn as sns\n",
    "\n",
    "\n",
    "def plotNoiseAnalysis(data):\n",
    "    pix_over_frames_disp = data.melt(\n",
    "        var_name=\"temperature\", value_name=\"grey_level\", ignore_index=False)\n",
    "    pix_over_frames_disp.index.rename(\"sample\", inplace=True)\n",
    "    pix_over_frames_disp.reset_index(level=0, inplace=True)\n",
    "    sns_plot = sns.relplot(x=\"sample\", y=\"grey_level\", data=pix_over_frames_disp,\n",
    "                col=\"temperature\", col_wrap=4)\n",
    "#     sns_plot.savefig('no_avg.png')\n",
    "\n",
    "\n",
    "pix_idx = np.random.randint(low=[0, 0], high=measurements[list_bb[0]].shape[-2:], size=2)\n",
    "meas = np.stack(list(measurements.values()))[:, 10:, ...]\n",
    "pix_over_frames = pd.DataFrame(meas[..., pix_idx[0], pix_idx[1]].T, columns=list_bb)\n",
    "plotNoiseAnalysis(pix_over_frames)\n",
    "pix_over_frames.head()\n",
    "\n",
    "del meas, pix_over_frames"
   ]
  },
  {
   "cell_type": "code",
   "execution_count": null,
   "metadata": {
    "collapsed": false,
    "jupyter": {
     "outputs_hidden": false
    },
    "pycharm": {
     "name": "#%%\n"
    }
   },
   "outputs": [],
   "source": [
    "from sklearn.linear_model import LinearRegression\n",
    "from IPython.display import display, Latex\n",
    "import pandas as pd\n",
    "import seaborn as sns\n",
    "\n",
    "i,j = np.random.randint(low=[0, 0], high=measurements[list_bb[0]].shape[-2:], size=2)\n",
    "meas = np.stack(list(measurements.values()))[:, 10:, ...]\n",
    "regress_target_eg = meas[..., i, j].flatten()\n",
    "x, y = np.array(list_bb).repeat(meas.shape[1])[:, np.newaxis], regress_target_eg[:, np.newaxis]\n",
    "lr = LinearRegression().fit(x,y)\n",
    "plt.figure(figsize=(16, 9))\n",
    "res = sns.regplot(x=x, y=y, fit_reg=True)\n",
    "plt.title(f\"Regression model for random pixel {(i, j)}\")\n",
    "plt.xlabel(\"Temperature[C]\")\n",
    "plt.ylabel(\"Grey-Level\")\n",
    "plt.grid()\n",
    "\n",
    "display(Latex(fr\"Regression result: $GL = {lr.coef_.squeeze():.3f} \\times T +{lr.intercept_.squeeze():.3f}$\"))\n",
    "display(Latex(fr\"$R^2 = {lr.score(x, y):.3f}$\"))\n",
    "\n",
    "del meas, res, lr, regress_target_eg"
   ]
  },
  {
   "cell_type": "markdown",
   "metadata": {},
   "source": [
    "---"
   ]
  },
  {
   "cell_type": "code",
   "execution_count": null,
   "metadata": {
    "collapsed": false,
    "jupyter": {
     "outputs_hidden": false
    },
    "pycharm": {
     "name": "#%%\n"
    }
   },
   "outputs": [],
   "source": [
    "path = Path('/home/navot/PycharmProjects/MultiSpectralCtrl/data/images/img1_good')\n",
    "image = np.load(path.with_suffix('.npy'))\n",
    "list_wavelength = list(pd.read_csv(path.with_suffix('.csv')).iloc[:, -1])\n",
    "image.shape"
   ]
  },
  {
   "cell_type": "code",
   "execution_count": null,
   "metadata": {
    "collapsed": false,
    "jupyter": {
     "outputs_hidden": false
    },
    "pycharm": {
     "name": "#%%\n"
    }
   },
   "outputs": [],
   "source": [
    "h, w = np.random.randint(low=[0, 0], high=image.shape[-2:], size=2)\n",
    "print(f'Random pixel {h, w}')\n",
    "plt.figure()\n",
    "plt.scatter(list_wavelength, image.mean(1)[..., h,w], c='r')\n",
    "plt.xlabel('Wavelength [nm]')\n",
    "plt.ylabel('Measured GrayLevel')\n",
    "# plt.title(f'Measured vs BlackBody GT for $\\lambda=${wl / 1000:.1f}' + '$_{\\mu m}$')\n",
    "plt.grid()\n",
    "plt.show(block=False)\n",
    "# plt.close()"
   ]
  },
  {
   "cell_type": "markdown",
   "metadata": {},
   "source": [
    "---"
   ]
  },
  {
   "cell_type": "code",
   "execution_count": null,
   "metadata": {
    "collapsed": false,
    "jupyter": {
     "outputs_hidden": false
    },
    "pycharm": {
     "name": "#%%\n"
    }
   },
   "outputs": [],
   "source": [
    "def _loader(path):\n",
    "    return str(path).split(\"\\\\\")[-1], np.load(path).mean(1)\n",
    "\n",
    "paths = list(PATH_TO_LOGS.glob('*.npy'))\n",
    "with Pool(cpu_count()) as pool:\n",
    "        loaded_data = list(tqdm(pool.imap(_loader, paths), desc='Loading data', total=len(paths)))\n",
    "loaded_data = sorted(loaded_data, key=lambda x: x[0])\n",
    "list_wavelength = list(pd.read_csv(list(PATH_TO_LOGS.glob('*.csv'))[0]).iloc[:, 1])"
   ]
  },
  {
   "cell_type": "code",
   "execution_count": null,
   "metadata": {
    "collapsed": false,
    "jupyter": {
     "outputs_hidden": false
    },
    "pycharm": {
     "name": "#%%\n"
    }
   },
   "outputs": [],
   "source": [
    "measurements = {}\n",
    "with tqdm(total=len(loaded_data), desc='Parsing loaded data') as pbar:\n",
    "    while loaded_data:\n",
    "        name, image = loaded_data.pop()\n",
    "        t_bb = int(name.split('_')[-1][:2])\n",
    "        for wl, img in zip(list_wavelength, np.split(image, image.shape[0])):\n",
    "            measurements.setdefault(wl, {}).setdefault(t_bb, img.squeeze())\n",
    "        pbar.update()\n",
    "for k, v in measurements.items():\n",
    "    measurements[k] = {k: v[k] for k in sorted(v)}\n",
    "measurements = {k: measurements[k] for k in sorted(measurements)}\n",
    "\n",
    "list_bb = list(measurements[list_wavelength[0]].keys())\n",
    "print(f'Measured {len(list_wavelength)} wavelength: {list_wavelength}nm, '\n",
    "      f'at {len(list_bb)} BlackBody temperatures: {list_bb}C.')\n",
    "print()\n",
    "print('dict `measurments` has the wavelegnth as keys.')\n",
    "print('Each values contains a dict with the blackbody temperatures as keys.')\n",
    "print(\n",
    "    'Each values of the sub-dict is np.ndarray with dimensions [h, w] for the respective wavelegnth and blackbody temperature.')"
   ]
  },
  {
   "cell_type": "markdown",
   "metadata": {},
   "source": [
    "## Plot measurements"
   ]
  },
  {
   "cell_type": "markdown",
   "metadata": {},
   "source": [
    "### Measurement VS BlackBody\n",
    "Plots the maximal temperature in the measurements as a function of the Blackbody GT temperature.\n",
    "The maximal temperature is selected under the assumption that there is the least amount of vignetting there."
   ]
  },
  {
   "cell_type": "code",
   "execution_count": null,
   "metadata": {
    "collapsed": false,
    "jupyter": {
     "outputs_hidden": false
    },
    "pycharm": {
     "name": "#%%\n"
    }
   },
   "outputs": [],
   "source": [
    "plot_meas_vs_bb(list_wavelength=list_wavelength, list_bb=list_bb, measurements=measurements)"
   ]
  },
  {
   "cell_type": "markdown",
   "metadata": {},
   "source": [
    "---"
   ]
  },
  {
   "cell_type": "markdown",
   "metadata": {},
   "source": [
    "# Temperature estimation based on grey-levels:\n",
    "The relationship between the Black-Bodies radiance and the obtained grey-levels can be captured by the formula:\n",
    "$$G_{i,j} = a_{i,j} \\cdot P(\\lambda_c, T)$$\n",
    "Where:\n",
    "\n",
    "* $G_{i,j}$ is the grey level of the i,jth pixel.\n",
    "* $P(\\lambda_c, T)$ is the black-body's radiance at the temperature $T$, after being filtered by a narrow band-pass with a central frequency $\\lambda_c$. This term can be analytically solved for:\n",
    "    $$P(\\lambda_c, T) = \\int_{\\lambda_c-\\frac{bw}{2}}^{\\lambda_c+\\frac{bw}{2}} B(\\lambda, T) d\\lambda$$ \n",
    "    where $B(\\lambda, T) = \\frac{2h/c^2\\lambda^3}{exp(h/KT\\lambda)-1}$, and $bw$ is the narrow band-pass band-width.\n",
    "* $a_{i,j} are the scaling coefficients that translate the filtered radiance into grey-levels\n",
    "\n",
    "Hence, to estimate the grey-levels, we should:\n",
    "1. Estimate the black-body's radiance for the different temperature and filters.\n",
    "2. Solve for the scaling coefficients.\n",
    "3. Solve for the temperature (possibly be a LS solution to the primary equation above) "
   ]
  },
  {
   "cell_type": "markdown",
   "metadata": {},
   "source": [
    "## Estimate the black-body radiance coefficients per temperature and central frequency:\n",
    "To estimate the Black-bodies radiance, we need to calculate the integral presented above:\n",
    "$$P(\\lambda_c, T) = \\int_{\\lambda_c-\\frac{bw}{2}}^{\\lambda_c+\\frac{bw}{2}} B(\\lambda, T) d\\lambda$$ \n",
    "\n",
    "However, as our data is acquired using real-world filters (and not ideal ones), the non-optimal transmitance needs to be acounted for. Threfore, the actual radiance received by the sensor is:\n",
    "$$P(\\lambda_c, T) = \\int_{\\lambda_c-\\frac{bw}{2}}^{\\lambda_c+\\frac{bw}{2}} B(\\lambda, T)\\cdot F(\\lambda) d\\lambda$$ \n",
    "where $F(\\lambda)$ is the frequency response of our narrow band-pass IR filter.\n",
    "\n",
    "The function ***calcRxPower*** acounts for these non-optimalities, and calculates the actual received radiance according to the temperature and central frequency. To do so, it looks for the frequency response of the relevant filter in a static xlsx table containing Thorlab's characterizations for each filter.\n",
    "\n",
    "Along is an example of how the function works at $T=32[C]$, $\\lambda_c=9000[nm]$: \n"
   ]
  },
  {
   "cell_type": "code",
   "execution_count": null,
   "metadata": {
    "collapsed": false,
    "jupyter": {
     "outputs_hidden": false
    },
    "pycharm": {
     "name": "#%%\n"
    }
   },
   "outputs": [],
   "source": [
    "import matplotlib\n",
    "import matplotlib.pyplot as plt\n",
    "matplotlib.rcParams[\"font.size\"] = 14\n",
    "matplotlib.rcParams[\"figure.figsize\"] = (19, 10)\n",
    "from tools import calcRxPower\n",
    "rx_power = calcRxPower(32, 9000, debug=True)\n"
   ]
  },
  {
   "cell_type": "markdown",
   "metadata": {},
   "source": [
    "With that functionality in hand, let's now calculate the received radiance for each set point of temperature and filter:"
   ]
  },
  {
   "cell_type": "code",
   "execution_count": null,
   "metadata": {
    "collapsed": false,
    "jupyter": {
     "outputs_hidden": false
    },
    "pycharm": {
     "name": "#%%\n"
    }
   },
   "outputs": [],
   "source": [
    "# %% \n",
    "import pandas as pd\n",
    "c_wls = measurements.keys()  # list of central wavelengths\n",
    "temperatures = measurements[list(c_wls)[0]].keys()\n",
    "plank_coeefs = pd.DataFrame(index=temperatures, columns=c_wls)\n",
    "for c_wl in c_wls:\n",
    "    for temp in temperatures:\n",
    "        plank_coeefs.loc[temp, c_wl] = calcRxPower(temp, c_wl)\n",
    "\n",
    "plt.figure()\n",
    "plank_coeefs.plot(style='-o')\n",
    "plt.title(\"$P(\\lambda, T)$ Vs Temperature\")\n",
    "plt.ylabel(\"$P(\\lambda, T)$\")\n",
    "plt.xlabel(\"Black-Body Temperature[C]\")\n",
    "plt.grid()\n"
   ]
  },
  {
   "cell_type": "markdown",
   "metadata": {},
   "source": [
    "## Solve for the per-pixel scaling factors ($a_{i,j}$)    "
   ]
  },
  {
   "cell_type": "markdown",
   "metadata": {},
   "source": [
    "### 1st approach: normalize grey levels by $P(\\lambda, T)$ and average over all samples"
   ]
  },
  {
   "cell_type": "code",
   "execution_count": null,
   "metadata": {
    "collapsed": false,
    "jupyter": {
     "outputs_hidden": false
    },
    "pycharm": {
     "name": "#%%\n"
    }
   },
   "outputs": [],
   "source": [
    "# Averaging an Normalizing:\n",
    "chunk_shape = image.shape\n",
    "all_frames_aligned = np.zeros(shape=[len(c_wls)*len(temperatures), *chunk_shape[1:]])\n",
    "for i, c_wl in enumerate(c_wls):\n",
    "    for j, temp in enumerate(temperatures):\n",
    "        all_frames_aligned[i*len(temperatures)+j, ...] = measurements[c_wl][temp].mean(axis=0) / plank_coeefs.loc[temp, c_wl]\n",
    "\n",
    "a_ij = all_frames_aligned.mean(axis=0)\n"
   ]
  },
  {
   "cell_type": "code",
   "execution_count": null,
   "metadata": {
    "collapsed": false,
    "jupyter": {
     "outputs_hidden": false
    },
    "pycharm": {
     "name": "#%%\n"
    }
   },
   "outputs": [],
   "source": [
    "plt.figure()\n",
    "plt.imshow(a_ij, cmap=\"gray\")\n",
    "plt.title(\"scaling factors $a_{i,j}$\")"
   ]
  },
  {
   "cell_type": "markdown",
   "metadata": {},
   "source": [
    "#### Validate Results:\n",
    "We will validate by normalizing an average frame at a given temperature and central frequency by the scaling coefficients. We expect to obtain a roughly constant result, which reflects the spectral radiance at this temperature and central frequency:\n",
    "\n",
    "$$G_{i,j} = a_{i,j} \\cdot P(\\lambda_c, T) \\Rightarrow \\frac{G_{i,j}}{a_{i,j}} = P(\\lambda_c, T)$$"
   ]
  },
  {
   "cell_type": "code",
   "execution_count": null,
   "metadata": {
    "collapsed": false,
    "jupyter": {
     "outputs_hidden": false
    },
    "pycharm": {
     "name": "#%%\n"
    }
   },
   "outputs": [],
   "source": [
    "arbitrary_frame = measurements[c_wl][temp].mean(axis=0)\n",
    "radiometric_range = arbitrary_frame.ptp()\n",
    "frame_center = np.mean([arbitrary_frame.min(), arbitrary_frame.max()])\n",
    "P_hat = arbitrary_frame / a_ij\n",
    "P_hat_center = np.mean([P_hat.min(), P_hat.max()])\n",
    "fig, ax = plt.subplots(2, 2)\n",
    "ax[0, 0].imshow(arbitrary_frame, cmap=\"gray\")\n",
    "ax[0, 0].set_title(\"$G_{i,j}$\")\n",
    "ax[0, 1].imshow(P_hat - P_hat_center, vmin=-radiometric_range/2, vmax=radiometric_range, cmap=\"gray\")\n",
    "ax[0, 1].set_title(\"$\\\\frac{G_{i,j}}{a_{i,j}} (=P(\\lambda_c, T))$\")\n",
    "ax[1, 0].hist(arbitrary_frame.flatten())\n",
    "ax[1, 0].set_title(\"$G_{i,j}$ Hist \" + f\"(std={arbitrary_frame.std():.2e})\")\n",
    "ax[1, 1].hist(P_hat.flatten())\n",
    "ax[1, 1].set_title(\"$\\\\frac{G_{i,j}}{a_{i,j}}\" + f\"(=P(\\lambda_c, T))$ Hist (std={P_hat.std():.2e})\")\n",
    "\n",
    "fig.tight_layout()\n"
   ]
  },
  {
   "cell_type": "markdown",
   "metadata": {
    "jupyter": {
     "outputs_hidden": false
    },
    "pycharm": {
     "name": "#%%\n"
    }
   },
   "source": [
    "---\n",
    "\n",
    "# ADDED FROM THE FlyingTauCtrl"
   ]
  },
  {
   "cell_type": "markdown",
   "metadata": {},
   "source": [
    "# Imports"
   ]
  },
  {
   "cell_type": "code",
   "execution_count": null,
   "metadata": {
    "collapsed": false,
    "jupyter": {
     "outputs_hidden": false
    },
    "pycharm": {
     "name": "#%%\n"
    }
   },
   "outputs": [],
   "source": [
    "# # automaticlly updates imported methods when they change\n",
    "# %load_ext autoreload\n",
    "# %autoreload 2"
   ]
  },
  {
   "cell_type": "code",
   "execution_count": null,
   "metadata": {
    "collapsed": false,
    "jupyter": {
     "outputs_hidden": false
    },
    "pycharm": {
     "name": "#%%\n"
    }
   },
   "outputs": [],
   "source": [
    "# %%\n",
    "import sys\n",
    "from pathlib import Path\n",
    "sys.path.append(str(Path.cwd().parent.parent.parent))\n",
    "from IPython import get_ipython\n",
    "from plots import plot_meas_vs_bb, plot_surface_fit\n",
    "from tools import radius, fit_surface\n",
    "from tqdm import tqdm\n",
    "from multiprocessing import Pool, cpu_count\n",
    "import threading as th\n",
    "from functools import partial\n",
    "import matplotlib.pyplot as plt\n",
    "import numpy as np"
   ]
  },
  {
   "cell_type": "markdown",
   "metadata": {},
   "source": [
    "---"
   ]
  },
  {
   "cell_type": "markdown",
   "metadata": {},
   "source": [
    "# Load measurements"
   ]
  },
  {
   "cell_type": "markdown",
   "metadata": {},
   "source": [
    "## Set path to the data"
   ]
  },
  {
   "cell_type": "code",
   "execution_count": null,
   "metadata": {
    "collapsed": false,
    "jupyter": {
     "outputs_hidden": false
    },
    "pycharm": {
     "name": "#%%\n"
    }
   },
   "outputs": [],
   "source": [
    "PATH_TO_LOGS = Path('data/')"
   ]
  },
  {
   "cell_type": "markdown",
   "metadata": {},
   "source": [
    "## Load"
   ]
  },
  {
   "cell_type": "code",
   "execution_count": null,
   "metadata": {
    "collapsed": false,
    "jupyter": {
     "outputs_hidden": false
    },
    "pycharm": {
     "name": "#%%\n"
    }
   },
   "outputs": [],
   "source": [
    "def _loader(path):\n",
    "    return path.stem, np.load(path).mean(0)\n",
    "\n",
    "\n",
    "paths = list(PATH_TO_LOGS.glob('*.npy'))\n",
    "loaded_data = []\n",
    "for path in tqdm(paths, desc='Loading data'):\n",
    "    loaded_data.append((str(path).split(\"\\\\\")[-1], np.load(path)))\n",
    "\n",
    "# todo: what did you mean to do here?\n",
    "loaded_data = sorted(loaded_data, key=lambda x: x[0])\n",
    "measurements = {}\n",
    "with tqdm(total=len(loaded_data), desc='Parsing loaded data') as pbar:\n",
    "    while loaded_data:\n",
    "        name, image = loaded_data.pop()\n",
    "        name = name.split('_')\n",
    "        measurements.setdefault(int(name[1]), {}).setdefault(\n",
    "            int(name[3].split('.')[0]), image)\n",
    "        pbar.update()\n",
    "\n",
    "for k, v in measurements.items():\n",
    "    measurements[k] = {k: v[k] for k in sorted(v)}\n",
    "measurements = {k: measurements[k] for k in sorted(measurements)}\n",
    "list_wavelength = list(measurements.keys())\n",
    "list_bb = list(measurements[list_wavelength[0]].keys())\n",
    "print(f'Measured {len(list_wavelength)} wavelength: {list_wavelength}nm, '\n",
    "      f'at {len(list_bb)} BlackBody temperatures: {list_bb}C.')\n",
    "print()\n",
    "print('dict `measurments` has the wavelegnth as keys.')\n",
    "print('Each values contains a dict with the blackbody temperatures as keys.')\n",
    "print(\n",
    "    'Each values of the sub-dict is np.ndarray with dimensions [n_images, h, w] for the respective wavelegnth and blackbody temperature.')\n"
   ]
  },
  {
   "cell_type": "markdown",
   "metadata": {},
   "source": [
    "## Plot measurements"
   ]
  },
  {
   "cell_type": "markdown",
   "metadata": {},
   "source": [
    "### Measurement VS BlackBody\n",
    "Plots the maximal temperature in the measurements as a function of the Blackbody GT temperature.\n",
    "The maximal temperature is selected under the assumption that there is the least amount of vignetting there."
   ]
  },
  {
   "cell_type": "code",
   "execution_count": null,
   "metadata": {
    "collapsed": false,
    "jupyter": {
     "outputs_hidden": false
    },
    "pycharm": {
     "name": "#%%\n"
    }
   },
   "outputs": [],
   "source": [
    "plot_meas_vs_bb(list_wavelength=list_wavelength, list_bb=list_bb, measurements=measurements)"
   ]
  },
  {
   "cell_type": "markdown",
   "metadata": {},
   "source": [
    "---"
   ]
  },
  {
   "cell_type": "markdown",
   "metadata": {},
   "source": [
    "# Temperature estimation based on grey-levels:\n",
    "The relationship between the Black-Bodies radiance and the obtained grey-levels can be captured by the formula:\n",
    "$$G_{i,j} = a_{i,j} \\cdot P(\\lambda_c, T)$$\n",
    "Where:\n",
    "\n",
    "* $G_{i,j}$ is the grey level of the i,jth pixel.\n",
    "* $P(\\lambda_c, T)$ is the black-body's radiance at the temperature $T$, after being filtered by a narrow band-pass with a central frequency $\\lambda_c$. This term can be analytically solved for:\n",
    "    $$P(\\lambda_c, T) = \\int_{\\lambda_c-\\frac{bw}{2}}^{\\lambda_c+\\frac{bw}{2}} B(\\lambda, T) d\\lambda$$\n",
    "    where $B(\\lambda, T) = \\frac{2h/c^2\\lambda^3}{exp(h/KT\\lambda)-1}$, and $bw$ is the narrow band-pass band-width.\n",
    "* $a_{i,j} are the scaling coefficients that translate the filtered radiance into grey-levels\n",
    "\n",
    "Hence, to estimate the grey-levels, we should:\n",
    "1. Estimate the black-body's radiance for the different temperature and filters.\n",
    "2. Solve for the scaling coefficients.\n",
    "3. Solve for the temperature (possibly be a LS solution to the primary equation above)"
   ]
  },
  {
   "cell_type": "markdown",
   "metadata": {},
   "source": [
    "## Estimate the black-body radiance coefficients per temperature and central frequency:\n",
    "To estimate the Black-bodies radiance, we need to calculate the integral presented above:\n",
    "$$P(\\lambda_c, T) = \\int_{\\lambda_c-\\frac{bw}{2}}^{\\lambda_c+\\frac{bw}{2}} B(\\lambda, T) d\\lambda$$\n",
    "\n",
    "However, as our data is acquired using real-world filters (and not ideal ones), the non-optimal transmitance needs to be acounted for. Threfore, the actual radiance received by the sensor is:\n",
    "$$P(\\lambda_c, T) = \\int_{\\lambda_c-\\frac{bw}{2}}^{\\lambda_c+\\frac{bw}{2}} B(\\lambda, T)\\cdot F(\\lambda) d\\lambda$$\n",
    "where $F(\\lambda)$ is the frequency response of our narrow band-pass IR filter.\n",
    "\n",
    "The function ***calcRxPower*** acounts for these non-optimalities, and calculates the actual received radiance according to the temperature and central frequency. To do so, it looks for the frequency response of the relevant filter in a static xlsx table containing Thorlab's characterizations for each filter.\n",
    "\n",
    "Along is an example of how the function works at $T=32[C]$, $\\lambda_c=9000[nm]$:\n"
   ]
  },
  {
   "cell_type": "code",
   "execution_count": null,
   "metadata": {
    "collapsed": false,
    "jupyter": {
     "outputs_hidden": false
    },
    "pycharm": {
     "name": "#%%\n"
    }
   },
   "outputs": [],
   "source": [
    "import matplotlib\n",
    "import matplotlib.pyplot as plt\n",
    "matplotlib.rcParams[\"font.size\"] = 14\n",
    "matplotlib.rcParams[\"figure.figsize\"] = (19, 10)\n",
    "from tools import calcRxPower\n",
    "rx_power = calcRxPower(32, 9000, debug=True)\n"
   ]
  },
  {
   "cell_type": "markdown",
   "metadata": {},
   "source": [
    "With that functionality in hand, let's now calculate the received radiance for each set point of temperature and filter:"
   ]
  },
  {
   "cell_type": "code",
   "execution_count": null,
   "metadata": {
    "collapsed": false,
    "jupyter": {
     "outputs_hidden": false
    },
    "pycharm": {
     "name": "#%%\n"
    }
   },
   "outputs": [],
   "source": [
    "# %%\n",
    "import pandas as pd\n",
    "c_wls = measurements.keys()  # list of central wavelengths\n",
    "temperatures = measurements[list(c_wls)[0]].keys()\n",
    "plank_coeefs = pd.DataFrame(index=temperatures, columns=c_wls)\n",
    "for c_wl in c_wls:\n",
    "    for temp in temperatures:\n",
    "        plank_coeefs.loc[temp, c_wl] = calcRxPower(temp, c_wl)\n",
    "\n",
    "plt.figure()\n",
    "plank_coeefs.plot(style='-o')\n",
    "plt.title(\"$P(\\lambda, T)$ Vs Temperature\")\n",
    "plt.ylabel(\"$P(\\lambda, T)$\")\n",
    "plt.xlabel(\"Black-Body Temperature[C]\")\n",
    "plt.grid()\n"
   ]
  },
  {
   "cell_type": "markdown",
   "metadata": {},
   "source": [
    "## Solve for the per-pixel scaling factors ($a_{i,j}$)"
   ]
  },
  {
   "cell_type": "markdown",
   "metadata": {},
   "source": [
    "### 1st approach: normalize grey levels by $P(\\lambda, T)$ and average over all samples"
   ]
  },
  {
   "cell_type": "code",
   "execution_count": null,
   "metadata": {
    "collapsed": false,
    "jupyter": {
     "outputs_hidden": false
    },
    "pycharm": {
     "name": "#%%\n"
    }
   },
   "outputs": [],
   "source": [
    "# Averaging an Normalizing:\n",
    "chunk_shape = image.shape\n",
    "all_frames_aligned = np.zeros(shape=[len(c_wls)*len(temperatures), *chunk_shape[1:]])\n",
    "for i, c_wl in enumerate(c_wls):\n",
    "    for j, temp in enumerate(temperatures):\n",
    "        all_frames_aligned[i*len(temperatures)+j, ...] = measurements[c_wl][temp].mean(axis=0) / plank_coeefs.loc[temp, c_wl]\n",
    "\n",
    "a_ij = all_frames_aligned.mean(axis=0)\n"
   ]
  },
  {
   "cell_type": "code",
   "execution_count": null,
   "metadata": {
    "collapsed": false,
    "jupyter": {
     "outputs_hidden": false
    },
    "pycharm": {
     "name": "#%%\n"
    }
   },
   "outputs": [],
   "source": [
    "plt.figure()\n",
    "plt.imshow(a_ij, cmap=\"gray\")\n",
    "plt.title(\"scaling factors $a_{i,j}$\")"
   ]
  },
  {
   "cell_type": "markdown",
   "metadata": {},
   "source": [
    "#### Validate Results:\n",
    "We will validate by normalizing an average frame at a given temperature and central frequency by the scaling coefficients. We expect to obtain a roughly constant result, which reflects the spectral radiance at this temperature and central frequency:\n",
    "\n",
    "$$G_{i,j} = a_{i,j} \\cdot P(\\lambda_c, T) \\Rightarrow \\frac{G_{i,j}}{a_{i,j}} = P(\\lambda_c, T)$$"
   ]
  },
  {
   "cell_type": "code",
   "execution_count": null,
   "metadata": {
    "collapsed": false,
    "jupyter": {
     "outputs_hidden": false
    },
    "pycharm": {
     "name": "#%%\n"
    }
   },
   "outputs": [],
   "source": [
    "arbitrary_frame = measurements[c_wl][temp].mean(axis=0)\n",
    "radiometric_range = arbitrary_frame.ptp()\n",
    "frame_center = np.mean([arbitrary_frame.min(), arbitrary_frame.max()])\n",
    "P_hat = arbitrary_frame / a_ij\n",
    "P_hat_center = np.mean([P_hat.min(), P_hat.max()])\n",
    "fig, ax = plt.subplots(2, 2)\n",
    "ax[0, 0].imshow(arbitrary_frame, cmap=\"gray\")\n",
    "ax[0, 0].set_title(\"$G_{i,j}$\")\n",
    "ax[0, 1].imshow(P_hat - P_hat_center, vmin=-radiometric_range/2, vmax=radiometric_range, cmap=\"gray\")\n",
    "ax[0, 1].set_title(\"$\\\\frac{G_{i,j}}{a_{i,j}} (=P(\\lambda_c, T))$\")\n",
    "ax[1, 0].hist(arbitrary_frame.flatten())\n",
    "ax[1, 0].set_title(\"$G_{i,j}$ Hist \" + f\"(std={arbitrary_frame.std():.2e})\")\n",
    "ax[1, 1].hist(P_hat.flatten())\n",
    "ax[1, 1].set_title(\"$\\\\frac{G_{i,j}}{a_{i,j}}\" + f\"(=P(\\lambda_c, T))$ Hist (std={P_hat.std():.2e})\")\n",
    "\n",
    "fig.tight_layout()"
   ]
  }
 ],
 "metadata": {
  "interpreter": {
   "hash": "b07d8f2ecdc5eb4b3d70fcad9dd4cc72e5f31d0e0b7f59aa18a2759f21b4e8c3"
  },
  "kernelspec": {
   "display_name": "Python 3 (ipykernel)",
   "language": "python",
   "name": "python3"
  },
  "language_info": {
   "codemirror_mode": {
    "name": "ipython",
    "version": 3
   },
   "file_extension": ".py",
   "mimetype": "text/x-python",
   "name": "python",
   "nbconvert_exporter": "python",
   "pygments_lexer": "ipython3",
   "version": "3.8.10"
  },
  "pycharm": {
   "stem_cell": {
    "cell_type": "raw",
    "metadata": {
     "collapsed": false
    },
    "source": [
     "# Imports\n"
    ]
   }
  },
  "toc-autonumbering": true,
  "toc-showmarkdowntxt": false,
  "toc-showtags": false
 },
 "nbformat": 4,
 "nbformat_minor": 4
}
