{
 "cells": [
  {
   "cell_type": "markdown",
   "metadata": {},
   "source": [
    "# Flir Tau2 Filters Modeling\n",
    "\n",
    "The goal of the entire calibration process is to be able to predict how a captured scene would have looked if an IR filter was applied over the lense. This will enable us to generate artificial filtered images dataset (given a dataset of pan-chromatic images), which is required for the training of a hyper-spectral registration algorithm development.\n",
    "\n",
    "Following the literature, we expect a linear model between the radiation flux (power) emitted from the scene and the obtained grey-levels:\n",
    "$$ GL = \\alpha P(T) + \\beta + n$$\n",
    "where $P(T)$ is the temperature-dependent radiation flux and $n$ is additive noise.\n",
    "\n",
    "While this relationship is expected for the pan-chromatic case (without applying IR filters), we aren't sure what to expect in the filtered case.\n",
    "\n",
    "By the end of the notebook, we wish to:\n",
    "\n",
    "1. Validate the expected linear relationship between radiation flux and grey-levels in the pan-chromatic case.\n",
    "2. Analyse and model the relationship in the filtered case.\n"
   ]
  },
  {
   "cell_type": "markdown",
   "metadata": {},
   "source": [
    "## Packages and data imports:"
   ]
  },
  {
   "cell_type": "code",
   "execution_count": null,
   "metadata": {
    "collapsed": false,
    "jupyter": {
     "outputs_hidden": false
    },
    "pycharm": {
     "name": "#%%\n"
    }
   },
   "outputs": [],
   "source": [
    "from tools import calc_rx_power, get_measurements, FilterWavelength, FilterWavelength, choose_random_pixels, calc_r2, c2k, k2c, find_parent_dir\n",
    "from plots import showFacetImages, plot_rand_pix_regress\n",
    "from models import GlRegressor\n",
    "import sys\n",
    "from pathlib import Path\n",
    "sys.path.append(str(Path().cwd().parent))\n",
    "\n",
    "import numpy as np\n",
    "import matplotlib\n",
    "import matplotlib.pyplot as plt\n",
    "\n",
    "import pandas as pd\n",
    "%load_ext autoreload\n",
    "%autoreload 2\n",
    "%matplotlib widget\n",
    "\n",
    "\n",
    "matplotlib.rcParams.update({'font.size': 14})\n",
    "\n",
    "path_to_files = find_parent_dir(\"rawData\") / 'calib' / 'tlinear_0'\n",
    "path_to_models = find_parent_dir(\"models\")\n"
   ]
  },
  {
   "cell_type": "code",
   "execution_count": null,
   "metadata": {},
   "outputs": [],
   "source": [
    "## Load panchromatic data:\n",
    "meas_panchromatic, _, _, list_power_panchromatic, _, _ =\\\n",
    "    get_measurements(\n",
    "        path_to_files, filter_wavelength=FilterWavelength.PAN, fast_load=True)\n",
    "\n",
    "\n",
    "list_power_panchromatic = np.asarray(list_power_panchromatic)\n",
    "gl_regressor = GlRegressor(is_parallel=True, x_label=\"L[W/m^2*rad]\")\n"
   ]
  },
  {
   "cell_type": "code",
   "execution_count": null,
   "metadata": {},
   "outputs": [],
   "source": [
    "# Auxiliary functions\n",
    "\n",
    "def get_regression(re_run_regression, meas, independent_var, deg=1, feature_power=1, model_name=\"\"):\n",
    "    f_name = model_name + \".pkl\"\n",
    "    if re_run_regression:\n",
    "        gl_regressor.fit(independent_var,\n",
    "                         meas, deg=deg, feature_power=feature_power, debug=True)\n",
    "        gl_regressor.save_model(path_to_models / f_name)\n",
    "    else:\n",
    "        gl_regressor.load_model(path_to_models / f_name)\n",
    "\n",
    "\n",
    "def eval_fit(meas, independent_var, is_inverse=False):\n",
    "    if not is_inverse:\n",
    "        # eval fit:\n",
    "        gl_hat = gl_regressor.predict(independent_var)\n",
    "        ax_lbls = {\"xlabel\": \"BB Radiance[W/m^2*rad]\", \"ylabel\": \"Grey-levels\"}\n",
    "        err_df = gl_regressor.eval(meas, gl_hat,\n",
    "                                independent_var, debug=True, ax_lbls=ax_lbls)\n",
    "\n",
    "    else:\n",
    "        L_hat = gl_regressor.predict(meas, is_inverse=True)\n",
    "        ax_lbls = {\"xlabel\": \"BB Radiance[W/m^2*rad]\",\n",
    "                \"ylabel\": \"Radiance Estimation Error\"}\n",
    "        err_df = gl_regressor.eval(independent_var, L_hat,\n",
    "                                independent_var, debug=True, ax_lbls=ax_lbls)\n"
   ]
  },
  {
   "cell_type": "markdown",
   "metadata": {},
   "source": [
    "## Model Validation\n",
    "\n",
    "Recapping, in the pan-chromatic setup, we expect a linear model between the radiation flux (power) emitted from the scene and the obtained grey-levels:\n",
    "$$ GL = \\alpha P(T) + \\beta + n$$\n",
    "\n",
    "Let's put this model assumption to the test:\n",
    "\n",
    "% TODO: complete the model validation"
   ]
  },
  {
   "cell_type": "code",
   "execution_count": null,
   "metadata": {},
   "outputs": [],
   "source": [
    "from tools import calc_r2\n",
    "def plot_rand_pix_fit(x ,y, data_label, x_label, y_label):\n",
    "    y_vis = y.flatten()\n",
    "    x_vis = np.repeat(x, len(\n",
    "        y_vis) // len(x))\n",
    "    p = np.polyfit(x_vis, y_vis, deg=1)\n",
    "    poly = np.poly1d(p)\n",
    "    r_2 = calc_r2(poly(x_vis), y_vis)\n",
    "\n",
    "    plt.scatter(x_vis, y_vis, label=f\"{data_label} samples\")\n",
    "    plt.plot(x_vis, poly(x_vis), \"--\",\n",
    "             label=fr\"${y_label} = {p[0]:.2f} \\times P + {p[1]:.2f} (R^2={r_2:.4f})$\")\n",
    "    plt.xlabel(x_label)\n",
    "    plt.ylabel(y_label)\n",
    "    plt.grid()\n",
    "    plt.legend()\n",
    "    plt.title(\"Model Fitting\")\n",
    "    plt.tight_layout()\n",
    "\n",
    "plt.figure()\n",
    "i, j = choose_random_pixels(1, meas_panchromatic.shape[2:])\n",
    "\n",
    "plot_rand_pix_fit(list_power_panchromatic,\n",
    "                  meas_panchromatic[..., i, j], \"pan-chromatic\", \"radiation flux\", \"GL\")\n"
   ]
  },
  {
   "cell_type": "markdown",
   "metadata": {},
   "source": [
    "Indeed, it appears that the linear model is a good fit for the relationship between the radiation flux and the obtained grey-levels.\n",
    "\n",
    "Now, let's fit the model for all the spatial pixels:"
   ]
  },
  {
   "cell_type": "code",
   "execution_count": null,
   "metadata": {},
   "outputs": [],
   "source": [
    "get_regression(False, meas_panchromatic,\n",
    "               list_power_panchromatic, model_name=\"p2gl_lin\")\n"
   ]
  },
  {
   "cell_type": "code",
   "execution_count": null,
   "metadata": {},
   "outputs": [],
   "source": [
    "eval_fit(meas_panchromatic, list_power_panchromatic)"
   ]
  },
  {
   "cell_type": "markdown",
   "metadata": {},
   "source": [
    "## Filtered Data Analysis\n",
    "\n",
    "The question remains whether the fitted model could also be used to predict the intensity levels of the scene when a LWIR filter is applied.\n",
    "\n",
    "To do so, we will use the learned coefficients, and use them to predict the intensity levels based on the analytically calculated radiation flux that's typical to filter appliance. We will then compare the output of this model to actual images acquired with the real filters.\n",
    "\n",
    "Just to get a feeling, let's try this on the 9micron filter and try to predict the image for 2 different operating-points:"
   ]
  },
  {
   "cell_type": "code",
   "execution_count": null,
   "metadata": {},
   "outputs": [],
   "source": [
    "meas_filt, _, _, list_power_filt, list_blackbody_temperatures, _ = get_measurements(\n",
    "        path_to_files, filter_wavelength=FilterWavelength.nm9000, fast_load=True)\n"
   ]
  },
  {
   "cell_type": "code",
   "execution_count": null,
   "metadata": {},
   "outputs": [],
   "source": [
    "\n",
    "gl_hat_all = gl_regressor.predict(list_power_filt)\n",
    "\n",
    "def plot_filt_vs_est(gl_est):\n",
    "    target_power = list_power_filt[1], list_power_filt[-1]\n",
    "    idx_list = [i for i, power in enumerate(list_power_filt) if power in target_power]\n",
    "    gl_gt = meas_filt[idx_list].mean(axis=1)\n",
    "    gl_hat = gl_est[idx_list]\n",
    "    gl_diff = gl_gt - gl_hat\n",
    "    fig, ax = plt.subplots(2,3)\n",
    "\n",
    "    for i, (gt, hat, diff) in enumerate(zip(gl_gt, gl_hat, gl_diff)):\n",
    "        ax[i, 0].imshow(gt)\n",
    "        ax[i, 1].imshow(hat)\n",
    "        ax[i, 2].imshow(diff)\n",
    "        [axis.axis(\"off\") for axis in ax[i]]\n",
    "        ax[i, 0].set_ylabel(f\"L={list_power_filt[idx_list[i]]}\")\n",
    "        if i==0:\n",
    "            ax[i, 0].set_title(\"Ground-Truth\")\n",
    "            ax[i, 1].set_title(\"Estimated\")\n",
    "            ax[i, 2].set_title(\"Differences\")\n",
    "\n",
    "plot_filt_vs_est(gl_hat_all)\n"
   ]
  },
  {
   "cell_type": "markdown",
   "metadata": {},
   "source": [
    "Carefully inspecting the differences profile, there seems to be a significant bias difference between the panchromatic model prediction and the filtered images intesities.\n",
    "\n",
    "Let's see what happens when we compensate for the bias\n"
   ]
  },
  {
   "cell_type": "code",
   "execution_count": null,
   "metadata": {},
   "outputs": [],
   "source": [
    "gl_diff_all = meas_filt.mean(axis=1) - gl_hat_all\n",
    "gl_hat_all_unbiased = gl_hat_all + gl_diff_all.mean()\n",
    "plot_filt_vs_est(gl_hat_all_unbiased)\n",
    "print(f\"added bias = {gl_diff_all.mean()} GLs\")"
   ]
  },
  {
   "cell_type": "markdown",
   "metadata": {},
   "source": [
    "While clearly better, the model fit for estimating the pan-chromatic grey-levels still isn't successful in predicting the filtered version. this might have to do with the black-body radiation of the filter itself.\n",
    "\n",
    "Let's try and see whether a linear fit is even appropriate for the filtered case:"
   ]
  },
  {
   "cell_type": "code",
   "execution_count": null,
   "metadata": {},
   "outputs": [],
   "source": [
    "i, j = choose_random_pixels(1, meas_filt.shape[2:])\n",
    "\n",
    "plt.figure()\n",
    "plot_rand_pix_fit(list_power_panchromatic,\n",
    "                  meas_panchromatic[..., i, j], \"pan-chromatic\", \"radiation flux\", \"GL\")\n",
    "plot_rand_pix_fit(list_power_filt,\n",
    "                  meas_filt[..., i, j], \"filtered\", \"radiation flux\", \"GL\")\n"
   ]
  },
  {
   "cell_type": "markdown",
   "metadata": {},
   "source": [
    "We can see that:\n",
    "1. While the SNR is much worse in the filtered case (because the dynamic range is very small ~400 grey-levels), there still seems to exist some linear relationship between the grey-levels and the radiation power.\n",
    "2. Even after the bias correction, there seems to be a gap between the slopes of the pan-model and the filtered data. This suggests that we have generate a dedicated model for the filtered measurements.\n",
    "\n",
    "Hence, we need to perform a separate regression to fit each of the filters:"
   ]
  },
  {
   "cell_type": "code",
   "execution_count": null,
   "metadata": {},
   "outputs": [],
   "source": [
    "power_filt = np.asarray(list_power_filt)\n",
    "get_regression(False, meas_filt,\n",
    "               power_filt, model_name=\"p2gl_filt_lin\")\n"
   ]
  },
  {
   "cell_type": "code",
   "execution_count": null,
   "metadata": {},
   "outputs": [],
   "source": [
    "eval_fit(meas_filt, power_filt)\n"
   ]
  },
  {
   "cell_type": "markdown",
   "metadata": {},
   "source": [
    "## Temperature fit\n",
    "\n",
    "Instead of trying to linearly fit the grey levels to an analytically calculated power term, we can instead use the temperature to the power of 4, based on the same arguments that were applied for the pan-chromatic case. Ofcourse, as the filter attenuates the wavelengths outside its bandwidth, the slope (coefficient of $T^4$) is expected to be much smaller"
   ]
  },
  {
   "cell_type": "code",
   "execution_count": null,
   "metadata": {},
   "outputs": [],
   "source": [
    "blackbody_temperatures = np.asarray(list_blackbody_temperatures)\n",
    "\n",
    "get_regression(False, meas_filt, c2k(blackbody_temperatures),\n",
    "               feature_power=4, model_name=\"t2gl_filt_lin\")\n"
   ]
  },
  {
   "cell_type": "code",
   "execution_count": null,
   "metadata": {},
   "outputs": [],
   "source": [
    "def eval_fit_temperature(meas, temperature, is_inverse=False):\n",
    "    if not is_inverse:\n",
    "        # eval fit:\n",
    "        gl_hat = gl_regressor.predict(c2k(temperature))\n",
    "        ax_lbls = {\"xlabel\": \"Temperature[C]\", \"ylabel\": \"Grey-levels\"}\n",
    "        err_df = gl_regressor.eval(meas, gl_hat,\n",
    "                                temperature, debug=True, ax_lbls=ax_lbls)\n",
    "    else:\n",
    "        L_hat = k2c(gl_regressor.predict(meas, is_inverse=True))\n",
    "        ax_lbls = {\"xlabel\": \"Temperature[C]\",\n",
    "                \"ylabel\": \"Estimation Error\"}\n",
    "        err_df = gl_regressor.eval(temperature, L_hat,\n",
    "                                temperature, debug=True, ax_lbls=ax_lbls)\n",
    "\n"
   ]
  },
  {
   "cell_type": "code",
   "execution_count": null,
   "metadata": {},
   "outputs": [],
   "source": [
    "\n",
    "eval_fit_temperature(meas_filt, blackbody_temperatures)\n"
   ]
  },
  {
   "cell_type": "markdown",
   "metadata": {},
   "source": [
    "Interestingly, there's seemingly no difference in the estimation results of the power based model and the temperature based model, if at all - the results are slightly in favor of the power based model.\n",
    "\n",
    "As the temperature Estimation itself is also of interest, we also want to look at the results of the inverse model:"
   ]
  },
  {
   "cell_type": "code",
   "execution_count": null,
   "metadata": {},
   "outputs": [],
   "source": [
    "eval_fit_temperature(meas_filt, blackbody_temperatures, is_inverse=True)\n"
   ]
  },
  {
   "cell_type": "markdown",
   "metadata": {},
   "source": [
    "While not nearly as good an estimation as in the pan-chromatic case (which is expected, as the SNR is much worse in this case), roughly half of the measurements' estimation error is $<\\frac{1}{2}$ degrees, and the vast majority is $<2$ degrees.\n",
    "\n",
    "As the purpose of the filtered regression is for \"forward\" estimation of the grey levels, this isn't too significant, and we should pay more attention to the grey-level estimations results, which for the most part are satisfactory.\n",
    "\n",
    "As the final step, we'll train a regression model per filter to be used later in the full pan -> filt transformation"
   ]
  },
  {
   "cell_type": "code",
   "execution_count": null,
   "metadata": {},
   "outputs": [],
   "source": [
    "for filt in FilterWavelength:\n",
    "    if filt.value == 0: #pan\n",
    "        continue\n",
    "    print(f\"Calibrating model for {filt.value} nm\")\n",
    "    meas_filt, _, _, list_power_filt, _, _ = get_measurements(\n",
    "        path_to_files, filter_wavelength=filt, fast_load=True)\n",
    "\n",
    "    power_filt = np.asarray(list_power_filt)\n",
    "    get_regression(True, meas_filt, power_filt, model_name=f\"p2gl_{filt.name}\")"
   ]
  },
  {
   "cell_type": "markdown",
   "metadata": {},
   "source": [
    "## Colorization LUT\n",
    "\n",
    "To Speed up the inference of the \"classical\" colorization pipeline, we can compress all it's possible outputs into a ~13Gb look-up-table, which reduces the entire pipeline into a single index lookup (significant speedup, on account of space complexity).\n",
    "\n",
    "This is made possible since every possible output pixel value of the pipeline is a one-to-one function of the input pixel, making the number of possible outputs per-pixel the same as the input radiometric resolution. Since each pixel has different regression models, the entire look-up table size is:\n",
    "\n",
    "$$\\text{LUT\\_SIZE} = 2^{14} \\times 2 \\times 5 \\times 256 \\times 336 = 14092861440 [Bytes] \\approx 13.125 [GBytes]$$\n",
    "\n",
    "Where:\n",
    "* $2^{14}$ is the radiometric resolution of the input.\n",
    "* $2$ is the number of bytes required to store the output result (has the same radiometric resolution as the input).\n",
    "* $5$ is the number of different filters.\n",
    "* $256 \\times 336$ are the spatial dimensions of the image."
   ]
  },
  {
   "cell_type": "code",
   "execution_count": null,
   "metadata": {},
   "outputs": [],
   "source": [
    "from tools import suppress_stdout\n",
    "from tqdm import tqdm\n",
    "from models import colorization_pipeline\n",
    "import numpy as np\n",
    "from tools import FilterWavelength\n",
    "\n",
    "## Calculate and save the lookup table:\n",
    "lut = np.zeros((5, 2**14, 256, 336), dtype=np.int16)\n",
    "\n",
    "for i, filter in enumerate(FilterWavelength):\n",
    "    if filter == FilterWavelength.PAN:\n",
    "        continue\n",
    "    for pan_gl in tqdm(range(2**14), desc=f\"Calculating LUT for filter {filter.value} micro\"):\n",
    "        with suppress_stdout():\n",
    "            pan_gl_mat = np.full((256, 336), fill_value=pan_gl)\n",
    "            res, _ = colorization_pipeline(pan_gl_mat, filt=filter)\n",
    "            lut[pan_gl, i - 1] = res\n",
    "\n",
    "np.save(\"colorization_lut.npy\", lut)"
   ]
  }
 ],
 "metadata": {
  "interpreter": {
   "hash": "d8375025aea390d21ac2eb4d38e3fe0d2c4732417b55b8ccc6fa449bb8865309"
  },
  "kernelspec": {
   "display_name": "Python 3.9.6 64-bit ('venv': venv)",
   "name": "python3"
  },
  "language_info": {
   "codemirror_mode": {
    "name": "ipython",
    "version": 3
   },
   "file_extension": ".py",
   "mimetype": "text/x-python",
   "name": "python",
   "nbconvert_exporter": "python",
   "pygments_lexer": "ipython3",
   "version": "3.9.7"
  }
 },
 "nbformat": 4,
 "nbformat_minor": 4
}
