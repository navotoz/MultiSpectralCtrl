{
 "cells": [
  {
   "cell_type": "code",
   "execution_count": null,
   "metadata": {},
   "outputs": [],
   "source": [
    "# automaticlly updates imported methods when they change\n",
    "%load_ext autoreload\n",
    "%autoreload 2"
   ]
  },
  {
   "cell_type": "markdown",
   "metadata": {},
   "source": [
    "# Flir Tau2 Calibration Process"
   ]
  },
  {
   "cell_type": "code",
   "execution_count": null,
   "metadata": {
    "collapsed": false,
    "jupyter": {
     "outputs_hidden": false
    },
    "pycharm": {
     "name": "#%%\n"
    }
   },
   "outputs": [],
   "source": [
    "# Packages and data imports:\n",
    "import seaborn as sns\n",
    "import pandas as pd\n",
    "from tools import calc_rx_power, get_meas, prefilt_cam_meas, showFacetImages, FilterWavelength\n",
    "import matplotlib.pyplot as plt\n",
    "import matplotlib\n",
    "import numpy as np\n",
    "from multiprocessing import Pool, cpu_count\n",
    "from scipy.optimize import nnls\n",
    "from itertools import product\n",
    "from tqdm import tqdm\n",
    "from pathlib import Path\n",
    "matplotlib.rcParams.update({'font.size': 14})\n",
    "\n",
    "path_to_files = Path.cwd()\n",
    "while not (path_to_files / \"rawData\").is_dir():\n",
    "    path_to_files = path_to_files.parent\n",
    "path_to_files = path_to_files / \"rawData\" / 'calib'\n",
    "\n",
    "meas_panchromatic, list_power_panchromatic, list_blackbody_temperatures = \\\n",
    "    get_meas(path_to_files, filter_wavelength=FilterWavelength.PAN)\n"
   ]
  },
  {
   "cell_type": "code",
   "execution_count": null,
   "metadata": {},
   "outputs": [],
   "source": [
    "# remove the first N_PIX_TO_REMOVE from each meas because of acquisition errors\n",
    "N_PIX_TO_REMOVE = 0\n",
    "if N_PIX_TO_REMOVE:\n",
    "    meas_panchromatic = meas_panchromatic[:, N_PIX_TO_REMOVE:, ...]"
   ]
  },
  {
   "cell_type": "markdown",
   "metadata": {},
   "source": [
    "## Raw Data Visualization:\n",
    "Before diving into processing the input images, it's a good idea to have a look at the raw data in order to get a better idea of its quality and evident issues.\n"
   ]
  },
  {
   "cell_type": "code",
   "execution_count": null,
   "metadata": {
    "collapsed": false,
    "jupyter": {
     "outputs_hidden": false
    },
    "pycharm": {
     "name": "#%%\n"
    }
   },
   "outputs": [],
   "source": [
    "# Display the Average Frames of the different operating points:\n",
    "ROW_LENGTH = 4\n",
    "meas_panchromatic_mean = meas_panchromatic.mean(axis=1)\n",
    "fig, axs = plt.subplots(max(1, meas_panchromatic_mean.shape[0] // ROW_LENGTH), ROW_LENGTH, figsize=(16, 9))\n",
    "for ax, image, t_bb in zip(axs.ravel(), meas_panchromatic_mean, list_blackbody_temperatures):\n",
    "    ax.imshow(image, cmap=\"gray\")\n",
    "    ax.set_title(f\"BlackBody = {t_bb}C\")\n",
    "    ax.axis(\"off\")\n",
    "fig.suptitle(\"Raw-Images At Different Operating Points\")\n",
    "plt.tight_layout()\n",
    "plt.show()\n",
    "plt.close()\n"
   ]
  },
  {
   "cell_type": "code",
   "execution_count": null,
   "metadata": {
    "collapsed": false,
    "jupyter": {
     "outputs_hidden": false
    },
    "pycharm": {
     "name": "#%%\n"
    }
   },
   "outputs": [],
   "source": [
    "# Plot the change in intensity (grey-level) of a random pixel for a continuous frames acquisition:\n",
    "def plotNoiseAnalysis(data):\n",
    "    pix_over_frames_disp = data.melt(\n",
    "        var_name=\"temperature\", value_name=\"grey_level\", ignore_index=False)\n",
    "    pix_over_frames_disp.index.rename(\"sample\", inplace=True)\n",
    "    pix_over_frames_disp.reset_index(level=0, inplace=True)\n",
    "    sns.relplot(x=\"sample\", y=\"grey_level\", data=pix_over_frames_disp,\n",
    "                col=\"temperature\", col_wrap=4)\n",
    "\n",
    "\n",
    "pix_idx = np.random.randint(low=[0, 0], high=meas_panchromatic.shape[2:], size=2)\n",
    "pix_over_frames = pd.DataFrame(meas_panchromatic[..., pix_idx[0], pix_idx[1]].T, \n",
    "                               columns=list_blackbody_temperatures)\n",
    "plotNoiseAnalysis(pix_over_frames)\n",
    "fig = plt.gcf()\n",
    "fig.suptitle(\"Intensity Changes Across Consequent Frames\")\n",
    "fig.tight_layout()"
   ]
  },
  {
   "cell_type": "markdown",
   "metadata": {},
   "source": [
    "## Pre-Processing\n",
    "Evident from the raw-data visualizations, there are 3 issues that come up:\n",
    "1. The first frame of each temperature appears to be an outlier. infact, after some more careful verification, it seems that in some cases, all first 3 frames exhibit this phenomenon. To be on the safe side, it would be a good idea to discard them for the purpose of any further analysis.\n",
    "2. The noise is highly correlated, as the trends in noise are smooth. This means that a gaussian noise assumption isn't valid. Nontheless, as trends are inconsistent at different temperatures (some are positive, some negative, and some oscillate and return to the same level) and since the trends' magnitudes aren't very significant, averaging frames might still be the best idea to eliminate the noise.\n",
    "3. While not easily observable, some pixels in the upper-right corner are \"burned\", resulting in a salt-and-pepper like noise.\n",
    "\n",
    "To tackle some of the issues, a pre-processing function was engineered, which chomps the 3 first frames, and filters the remaining frames with a 2x2 median filter."
   ]
  },
  {
   "cell_type": "code",
   "execution_count": null,
   "metadata": {
    "collapsed": false,
    "jupyter": {
     "outputs_hidden": false
    },
    "pycharm": {
     "name": "#%%\n"
    }
   },
   "outputs": [],
   "source": [
    "from tools import prefilt_cam_meas, showFacetImages\n",
    "meas_panchromatic_clean = prefilt_cam_meas(meas_panchromatic)\n",
    "img_comp = np.stack((meas_panchromatic[0].mean(\n",
    "    axis=0), meas_panchromatic_clean[0].mean(axis=0)))\n",
    "showFacetImages(img_comp, \"Phase\", [\n",
    "                \"Before Pre-Processing\", \"After Pre-Processing\"], facet_col_wrap=2,\n",
    "                title=\"An Examplary Operating-Point Before and After Applying Pre-Processing\")\n"
   ]
  },
  {
   "cell_type": "markdown",
   "metadata": {},
   "source": [
    "___"
   ]
  },
  {
   "cell_type": "markdown",
   "metadata": {},
   "source": [
    "## Calibration\n",
    "The target of the calibration process is to be able to predict how a filtered scene will look, in terms of grey-levels, given its pan-chromatic version as input.\n",
    "\n",
    "This calibration will enable us to utilize a physical prior about the expected filtered scene to be encorporated as part of the loss of the colorization model."
   ]
  },
  {
   "cell_type": "markdown",
   "metadata": {},
   "source": [
    "### LWIR Filters Artifacts\n",
    "When capturing real-world scenes using TAU2, an unexpected and unclear spherical distortion appears when applying an IR filter.\n",
    "This artifact only appears when applying a filter, as can be seen from the following example:"
   ]
  },
  {
   "cell_type": "code",
   "execution_count": null,
   "metadata": {
    "collapsed": false,
    "jupyter": {
     "outputs_hidden": false
    },
    "pycharm": {
     "name": "#%%\n"
    }
   },
   "outputs": [],
   "source": [
    "from tqdm import tqdm\n",
    "from itertools import product\n",
    "from scipy.optimize import nnls\n",
    "from multiprocessing import Pool, cpu_count\n",
    "from tools import calc_rx_power, get_meas, prefilt_cam_meas, SpectralFilter\n",
    "import plotly.express as px\n",
    "import plotly.graph_objects as go\n",
    "from plotly.subplots import make_subplots\n",
    "import numpy as np\n",
    "from pathlib import Path\n",
    "import matplotlib.pyplot as plt\n",
    "%load_ext autoreload\n",
    "%autoreload 2\n",
    "\n",
    "\n",
    "data_base_dir = Path(\n",
    "    r\"C:\\Users\\omriber\\Documents\\Thesis\\MultiSpectralCtrl\\download\")\n",
    "\n",
    "data_fname = \"cnt1_20210830_h15m53s38.npy\"\n",
    "data = np.load(Path(data_base_dir, data_fname))\n",
    "\n",
    "fig = make_subplots(1, 2)\n",
    "fig = px.imshow(data[0, 0], color_continuous_scale='gray',\n",
    "                title=\"Pan-Chromatic\")\n",
    "\n",
    "fig.show()\n",
    "fig = px.imshow(data[1, 0], color_continuous_scale='gray', title=\"Filter1\")\n",
    "fig.show()\n"
   ]
  },
  {
   "cell_type": "markdown",
   "metadata": {},
   "source": [
    "While seemingly similar to vignetting, it's clearly not, as in opposed to vignetting, the center is brighter than the edges (in vignetting its vice-versa)."
   ]
  },
  {
   "cell_type": "markdown",
   "metadata": {},
   "source": [
    "Moreover, many pixels have a higher intensity level when the filter is applied, in contrast to the expected physical phenomenon, by which the grey level is proportional to the radiated power. This can be clearly observed when using the same dynamic range for showing both images:"
   ]
  },
  {
   "cell_type": "code",
   "execution_count": null,
   "metadata": {
    "collapsed": false,
    "jupyter": {
     "outputs_hidden": false
    },
    "pycharm": {
     "name": "#%%\n"
    }
   },
   "outputs": [],
   "source": [
    "fig = px.imshow(data[:2, 0, ...], facet_col=0,\n",
    "                color_continuous_scale='gray')\n",
    "fig.layout.annotations[0].text=\"Pan-Chromatic\"\n",
    "fig.layout.annotations[1].text=\"Filtered\"\n",
    "fig.show()\n"
   ]
  },
  {
   "cell_type": "markdown",
   "metadata": {},
   "source": [
    "This unexpected bias difference in favor of the filtered version might be due to the filter acting as a black-body, radiating towards the bolumetric sensor due to it's temperature and relatively high proximity to the sensor.\n",
    "\n",
    "While unexpected, this is not necessarily an issue, as we don't necessarily intend to cancel it out, but rather characterize it in order to be able to predict it and use it to simulate the filtered scene given the pan-chromatic one."
   ]
  },
  {
   "cell_type": "markdown",
   "metadata": {},
   "source": [
    "### Physical Model\n",
    "To tackle the observed issue, we must first assume some model the generated distortion in the grey-levels.\n",
    "I propose the following linear model:\n",
    "$$ GL^{(f)}_{i,j} = \\alpha_{i,j}P_{i,j}^{(f)}(T) + \\beta^{(f)} + n_{i,j}$$\n",
    "Where:\n",
    "* $GL^{(f)}_{i,j}$ are the grey level of the i,j'th pixel (per filter).\n",
    "* $P_{i,j}^{(f)}(T)$ is the radiance power of the i,j'th pixel (per filter), which can be calculated analytically based on Plank's law.\n",
    "* $\\alpha_{i,j}$ are the per-pixel slopes of the liner model. The core assumption of the model is that these coefficients are filter-invarient, hence can be learned using the unfiltered (panchromatic) setup, and used in the filtered setups to recover the other parameters of interest.\n",
    "* $\\beta_{i,j}^{(f)}$ is the linear model bias (perhaps not pixel-dependent). For the filtered setups, we assume that this factor is mostly due to the radiance of the filter itself towards the sensor.\n",
    "* $n_{i,j}$ is the per-pixel additive noise."
   ]
  },
  {
   "cell_type": "markdown",
   "metadata": {},
   "source": [
    "### Calibration Workflow:\n",
    "To obtain a full calibration that will enable us to predict a filtered scene given its panchromatic conterpart, we need to:\n",
    "1. Estimate the temperature given grey-level, using the pan-chromatic channel.\n",
    "2. Estimate $\\alpha_{i,j}$ and $\\beta_{i,j}^{(f)}$.\n"
   ]
  },
  {
   "cell_type": "markdown",
   "metadata": {},
   "source": [
    "### 1. Temperature Calibration\n",
    "One of the desired outputs of our calibration process is being able to estimate the temperature based on the pan-chromatic grey-levels. To that end, we assume a linear model between temperature and grey-level, and perform a linear regression.\n",
    "$$GL = \\hat{\\text{intercept}} \\times T +\\hat{\\text{slope}}$$\n",
    "First, we can inspect the estimated regression parameters of an arbitrary pixel:\n"
   ]
  },
  {
   "cell_type": "code",
   "execution_count": null,
   "metadata": {
    "collapsed": false,
    "jupyter": {
     "outputs_hidden": false
    },
    "pycharm": {
     "name": "#%%\n"
    }
   },
   "outputs": [],
   "source": [
    "# first, let's display a regression model for an arbitrary pixel:\n",
    "from sklearn.linear_model import LinearRegression\n",
    "from IPython.display import display, Latex\n",
    "\n",
    "i, j = np.random.randint((0, 0), meas_panchromatic_clean.shape[2:])\n",
    "regress_target_eg = meas_panchromatic_clean[..., i, j].flatten()\n",
    "x, y = np.array(list_blackbody_temperatures).repeat(\n",
    "    meas_panchromatic_clean.shape[1])[:, np.newaxis], regress_target_eg[:, np.newaxis]\n",
    "lr = LinearRegression().fit(x, y)\n",
    "plt.figure(figsize=(16, 9))\n",
    "res = sns.regplot(x=x, y=y, fit_reg=True)\n",
    "plt.title(f\"Regression model for random pixel {(i, j)}\")\n",
    "plt.xlabel(\"Temperature[C]\")\n",
    "plt.ylabel(\"Grey-Level\")\n",
    "plt.grid()\n",
    "\n",
    "display(Latex(\n",
    "    fr\"Regression result: $GL = {lr.coef_.squeeze():.3f} \\times T +{lr.intercept_.squeeze():.3f}$\"))\n",
    "display(Latex(fr\"$R^2 = {lr.score(x, y):.3f}$\"))\n"
   ]
  },
  {
   "cell_type": "markdown",
   "metadata": {},
   "source": [
    "\n",
    "Now, we move forward to calculating and visualizing the estimated parameters for all image pixels:"
   ]
  },
  {
   "cell_type": "code",
   "execution_count": null,
   "metadata": {
    "collapsed": false,
    "jupyter": {
     "outputs_hidden": false
    },
    "pycharm": {
     "name": "#%%\n"
    }
   },
   "outputs": [],
   "source": [
    "from tqdm import tqdm\n",
    "import plotly.express as px\n",
    "# Compute the regression (pixel-wise, in a loop, to avoid memory congestion):\n",
    "meas_shape = meas_panchromatic_clean.shape\n",
    "lr = LinearRegression()\n",
    "lr_res = {\"slopes\": np.zeros(\n",
    "    meas_shape[2:]), \"intercepts\": np.zeros(meas_shape[2:])}\n",
    "lr_all = np.zeros(meas_shape[2:])\n",
    "for i in tqdm(range(meas_shape[2])):\n",
    "    for j in range(meas_shape[3]):\n",
    "        lr_ij = lr.fit(x, meas_panchromatic_clean[..., i, j].flatten())\n",
    "        lr_res[\"slopes\"][i, j] = lr_ij.coef_\n",
    "        lr_res[\"intercepts\"][i, j] = lr_ij.intercept_\n",
    "\n",
    "# plot slopes:\n",
    "fig = px.imshow(lr_res[\"slopes\"], color_continuous_scale='gray',\n",
    "                title=\"Linear Regression Slopes Map\")\n",
    "fig.show()\n",
    "\n",
    "fig = px.imshow(lr_res[\"intercepts\"], color_continuous_scale='gray',\n",
    "                title=\"Linear Regression Intercepts Map\")\n",
    "fig.show()\n"
   ]
  },
  {
   "cell_type": "markdown",
   "metadata": {},
   "source": [
    "Now, we move forward to estimating the temperature, based on the acquired grey-levels (the inverse-regression)\n",
    "$$ \\hat{GL} = slope \\times T + \\text{intercept} \\Rightarrow \\hat{T} = \\frac{GL - \\text{intercept}}{\\text{slope}} $$\n",
    "\n",
    "First, I present the estimation of the best-fit operating point (45C), and later a barplot summarizing the average temperature estimation error for all operating points:"
   ]
  },
  {
   "cell_type": "code",
   "execution_count": null,
   "metadata": {
    "collapsed": false,
    "jupyter": {
     "outputs_hidden": false
    },
    "pycharm": {
     "name": "#%%\n"
    }
   },
   "outputs": [],
   "source": [
    "def gl2T(gl, slope, intercept): return (gl-intercept) / slope\n",
    "\n",
    "# Estimate for the best OP:\n",
    "operating_point = 45  # [C]\n",
    "op_image = meas_panchromatic_clean.mean(\n",
    "    axis=1)[list_blackbody_temperatures.index(operating_point), ...]\n",
    "t_hat = gl2T(op_image, lr_res[\"slopes\"], lr_res[\"intercepts\"])\n",
    "\n",
    "fig = px.imshow(t_hat, color_continuous_scale='gray',\n",
    "                title=f\"Temperature Estimation (GT={operating_point}[C])\")\n",
    "fig.show()\n",
    "\n",
    "\n",
    "# Averatge Estimation Error for all OPs:\n",
    "meas_panchromatic_df = pd.DataFrame(\n",
    "    meas_panchromatic_clean.mean(axis=1).reshape(meas_shape[0], -1).T, columns=list_blackbody_temperatures)\n",
    "t_hat_df = gl2T(meas_panchromatic_df,\n",
    "                lr_res[\"slopes\"].reshape(-1, 1), lr_res[\"intercepts\"].reshape(-1, 1))\n",
    "est_err = np.array(list_blackbody_temperatures) - t_hat_df\n",
    "\n",
    "fig, ax = plt.subplots(figsize=(16, 9))\n",
    "np.sqrt((est_err**2).mean()).plot.bar(ax=ax)\n",
    "ax.set_xlabel(\"Operating Point[C]\")\n",
    "ax.set_ylabel(\"Estimation Error[C]\")\n",
    "ax.set_title(\"Estimated Temperature RMSE\")\n",
    "ax.grid(axis=\"y\")\n",
    "print(\"Estimation Statistics:\\n\")\n",
    "t_hat_df.describe()\n"
   ]
  },
  {
   "cell_type": "markdown",
   "metadata": {},
   "source": [
    "A few observations can be made based on the obtained statistics:\n",
    "1. The linear model isn't a very good estimate for many operating points, with an RMSE of > 2C in the worst case, and >1C for more than half the operating points.\n",
    "2. The standard-deviation of all operating points is incredibely small, suggesting that the error trend is very similar for all pixels\n",
    "\n",
    "These observations give hope that a better model(perhaps a higher degree polynomial) will result in a better fit for all pixels.\n",
    "\n",
    "Regardless of the suggested models, a proper evaluation should be based on a validation set of measurements that weren't used for constructing the model.\n"
   ]
  },
  {
   "cell_type": "markdown",
   "metadata": {},
   "source": [
    "#### SNR\n",
    "One of the questions that arises is how good the signal-to-noise ratio of the acquired data is.\n",
    "\n",
    "To answer it, we can estimate the noise level (std) of each operating point, and compare it to the regression model's parameters:"
   ]
  },
  {
   "cell_type": "code",
   "execution_count": null,
   "metadata": {
    "collapsed": false,
    "jupyter": {
     "outputs_hidden": false
    },
    "pycharm": {
     "name": "#%%\n"
    }
   },
   "outputs": [],
   "source": [
    "## calculate the per-pixel std map\n",
    "std_map = meas_panchromatic_clean.std(axis=1)\n",
    "showFacetImages(std_map, \"Temperature\", list_blackbody_temperatures, title=\"Noise Standard-Deviation Per Operating Point\")"
   ]
  },
  {
   "cell_type": "markdown",
   "metadata": {},
   "source": [
    "We can see that the worst case scenario std is $\\approx 45 [\\frac{GL}{C}]$. Hence, and under the assumption that the noise is i.i.d (which isn't accurate, as we can see from the intensity-over-frames graphs that it's highly correlated) - we can reduce it by the square-root of the acquired frames number after averaging. E.g, averaging over 2000 framse is expected to reduce the noise std to $\\frac{45}{\\sqrt(2000)} \\approx 1$ grey-levels in the worst case.\n",
    "\n",
    "As the slopes of the regression model are all  $ >80 [\\frac{GL}{C}]$), the signal is a lot greater than the averaged samples noise std ($\\approx 1 [\\frac{GL}{C}]$), and is even greater than the worst-case single-sample noise ($\\approx 45 [\\frac{GL}{C}]$).\n"
   ]
  },
  {
   "cell_type": "markdown",
   "metadata": {},
   "source": [
    "### 2. $\\alpha_{i,j}$ and $\\beta_{i,j}^{(f)}$ Calibration\n"
   ]
  },
  {
   "cell_type": "markdown",
   "metadata": {},
   "source": [
    "\n",
    "#### Calibration plan:\n",
    "1. Estimate $\\alpha_{i,j}$, the per-pixel scale-factor converting from radiance power to grey-level:\n",
    "    1. Capture an unfiltered image (pan-chromatic) of the black-body in several temperature set-points, to obtain a grey level per-pixel $GL^{\\text{pan}}_{i,j}$\n",
    "    2. Analytically calculate the expected radiance power by integrating over Plank's spectral radiance density $B(\\lambda, T)$:\n",
    "        $$P^{\\text{pan}}(\\lambda^{\\text{pan}}_{0,1}, T) = \\int_{\\lambda^{\\text{pan}}_0}^{\\lambda^{\\text{pan}}_1} B(\\lambda, T) d\\lambda$$\n",
    "        Where $B(\\lambda, T) = \\frac{2h/c^2\\lambda^3}{exp(h/KT\\lambda)-1}$ is Plank's spectral radiance density, and $\\lambda^{\\text{pan}}_{0,1}$ should be determined by TAU's natural band-width (After looking at the camera's SPEC, it seems that $\\lambda_0=7.5\\mu m, \\: \\lambda_1=13.5\\mu m$).\n",
    "\n",
    "        Alternatively, and assuming an infinite bandwidth with optimal transmission response, we can use the Stefan–Boltzmann law to assert that $P^{\\text{pan}} = \\frac{1}{\\pi} \\sigma T^4 $\n",
    "    3. Use linear regression ($GL_{i,j}^{\\text{pan}}$ vs $\\hat{P}^{\\text{pan}}$) to estimate the pan-chromatic $\\hat{\\alpha}_{i,j}^{\\text{pan}}$ and $\\hat{\\beta}^{\\text{pan}}$.\n",
    "    4. Estimate $\\alpha_{i,j}$ using $\\hat{\\alpha}_{i,j} = \\frac{GL^{\\text{pan}}_{i,j}-\\hat{\\beta}^{\\text{pan}}}{P^{\\text{pan}}}$\n",
    "    <!-- 5. Repeat for every temperature set-point to obtain a (linear) regression model for $\\hat{\\alpha}_{i,j}(T) = a_0T + b_0$ -->\n",
    "2. Estimate $\\delta^{(f)}_{i,j}$, the per-pixel, per-filter distortion correction coefficients. For each filter (f):\n",
    "    1. Capture a filtered image of the black-body in several temperature set-points, to obtain a grey level per-pixel $GL^{(f)}_{i,j}$\n",
    "    2. Analytically calculate the expected radiance power by integrating over Plank's spectral radiance density $B(\\lambda, T)$:\n",
    "        $$P^{(f)}(\\lambda_{0,1}, T) = \\int_{\\lambda_0}^{\\lambda_1} B(\\lambda, T) f(\\lambda) d\\lambda$$\n",
    "        Where now $\\lambda_{0,1}$ are determinde by the filter's band-width, and $f(\\lambda)$ is the filter's transmitanse response. This time, as a significant portion of the spectrum is cut-off, the Stefan–Boltzmann law can no longer be used to approximate the integral.\n",
    "    3. Estimate the per-filter bias using the already-estimated $\\hat{\\alpha}_{i,j}$: $\\hat{\\beta}^{(f)} = GL^{(f)}_{i,j} - \\hat{\\alpha}_{i,j}P^{(f)}$. Since we require $\\hat{\\beta}^{(f)}$ to be constant, the problem is over-constrained, and we could solve for the optimal bias term using optimization (e.g. least-squares).\n",
    "    4. Use the optimal bias found in (3) to construct a synthetic \"expected\" grey-level image: $\\hat{GL}^{(f)}_{i,j} = \\hat{\\alpha}_{i,j}P^{(f)} + \\hat{\\beta}^{(f)}$\n",
    "    5. In this point, we can compare our expectated image $\\hat{GL}^{(f)}_{i,j}$, which is a constant grey-level across all pixels by design, to the actual image $GL^{(f)}_{i,j}$, which suffers from vignetting and possibly other filter-related per-pixel distortions (\\delta^{(f)}_{i,j}). The estimation of $\\delta^{(f)}_{i,j}$ is still an open issue, and could be of the form of $\\hat{\\delta}^{(f)}_{i,j} = \\frac{\\hat{GL^{(f)}_{i,j}}}{GL^{(f)}_{i,j}}$ of maybe $\\hat{\\delta}^{(f)}_{i,j} = \\hat{GL^{(f)}_{i,j}} - GL^{(f)}_{i,j}$ or even a combination of the two (linear model). The answer to that isn't clear, and will maybe become so after exploring the results of previous steps.\n",
    "    <!-- 5. Repeat for every temperature set-point to obtain a (linear) regression model for $\\hat{\\beta}^{(f)}_{i,j}(T) = a_1T + b_1$ -->\n"
   ]
  },
  {
   "cell_type": "markdown",
   "metadata": {},
   "source": [
    "#### Calculating the Power-Radiance P:\n",
    "use the API as depicted below:"
   ]
  },
  {
   "cell_type": "code",
   "execution_count": null,
   "metadata": {
    "collapsed": false,
    "jupyter": {
     "outputs_hidden": false
    },
    "pycharm": {
     "name": "#%%\n"
    }
   },
   "outputs": [],
   "source": [
    "from tools import calc_rx_power\n",
    "import numpy as np\n",
    "import matplotlib.pyplot as plt\n",
    "# for pan-chromatic, currently using an ideal, infinitely wide bandwidth filter assumption\n",
    "rx_power = calc_rx_power(temperature=32, debug=True)\n",
    "\n",
    "\n",
    "# for a specific filter, provide the central frequency:\n",
    "lambda_c = 9000 #[nm]\n",
    "rx_power = calc_rx_power(temperature=32, central_wl=lambda_c, bw=1000, is_ideal_filt=False, debug=True)\n"
   ]
  },
  {
   "cell_type": "markdown",
   "metadata": {},
   "source": [
    "To avoid generating the figures each time the calculation is invoked, simply set debug=false (or completely remove it as an argument)"
   ]
  },
  {
   "cell_type": "markdown",
   "metadata": {},
   "source": [
    "#### Step 0: Model validation\n",
    "To understand whether our model is right, we first need to see if the relationship between the panchromatic grey-levels $GL^{\\text{Pan}}$ and the radiated power $P^{\\text{Pan}}$ is indeed linear and with what coefficients"
   ]
  },
  {
   "cell_type": "markdown",
   "metadata": {},
   "source": [
    "##### Load the panchromatic data:\n"
   ]
  },
  {
   "cell_type": "code",
   "execution_count": null,
   "metadata": {
    "collapsed": false,
    "jupyter": {
     "outputs_hidden": false
    },
    "pycharm": {
     "name": "#%%\n"
    }
   },
   "outputs": [],
   "source": [
    "temps_to_ommit = [60]\n",
    "meas_panchromatic, list_power_panchromatic, list_blackbody_temperatures = get_meas(\n",
    "    path_to_files, ommit_ops=temps_to_ommit)\n",
    "meas_panchromatic_clean = prefilt_cam_meas(meas_panchromatic)\n",
    "del meas_panchromatic"
   ]
  },
  {
   "cell_type": "markdown",
   "metadata": {},
   "source": [
    "##### Plot Grey levels of random pixels Vs power"
   ]
  },
  {
   "cell_type": "code",
   "execution_count": null,
   "metadata": {
    "collapsed": false,
    "jupyter": {
     "outputs_hidden": false
    },
    "pycharm": {
     "name": "#%%\n"
    }
   },
   "outputs": [],
   "source": [
    "import seaborn as sns\n",
    "from sklearn.linear_model import LinearRegression\n",
    "\n",
    "meas_panchromatic_clean_mean = meas_panchromatic_clean.mean(axis=1)\n",
    "i, j = 50, 200\n",
    "plt.figure(figsize=(16, 9))\n",
    "sns.regplot(x=list_power_panchromatic, y=meas_panchromatic_clean_mean[:, i, j])\n",
    "lr = LinearRegression()\n",
    "reg_res = lr.fit(np.array(list_power_panchromatic)[:, None], meas_panchromatic_clean_mean[:, i, j])\n",
    "r2 = lr.score(np.array(list_power_panchromatic)[\n",
    "            :, None], meas_panchromatic_clean_mean[:, i, j])\n",
    "plt.title(\n",
    "    f\"GL = {reg_res.coef_[0]:.2f}P + {reg_res.intercept_:.2f} ($R^2={r2:.2f}$)\")\n",
    "params = reg_res.get_params()\n"
   ]
  },
  {
   "cell_type": "markdown",
   "metadata": {},
   "source": [
    "Seems like the regression model is indeed linear, with a non-negligible bias term."
   ]
  },
  {
   "cell_type": "markdown",
   "metadata": {},
   "source": [
    "#### Step 1: estimate $\\alpha_{i,j}$"
   ]
  },
  {
   "cell_type": "markdown",
   "metadata": {},
   "source": [
    "##### Estimate the bias $\\hat{\\beta}^{\\text{pan}}$ (1.3)"
   ]
  },
  {
   "cell_type": "code",
   "execution_count": null,
   "metadata": {
    "collapsed": false,
    "jupyter": {
     "outputs_hidden": false
    },
    "pycharm": {
     "name": "#%%\n"
    }
   },
   "outputs": [],
   "source": [
    "beta_pan = meas_panchromatic_clean.mean(axis=(1, 2, 3))"
   ]
  },
  {
   "cell_type": "markdown",
   "metadata": {},
   "source": [
    "##### Estimate $\\alpha_{i,j}$ (1.4). Non-vectorized implementation is used to avoid RAM abuse."
   ]
  },
  {
   "cell_type": "code",
   "execution_count": null,
   "metadata": {
    "collapsed": false,
    "jupyter": {
     "outputs_hidden": false
    },
    "pycharm": {
     "name": "#%%\n"
    }
   },
   "outputs": [],
   "source": [
    "alpha = np.empty_like(meas_panchromatic_clean, dtype=float)\n",
    "for i, op_power in enumerate(list_power_panchromatic):\n",
    "    alpha[i] = meas_panchromatic_clean[i] - beta_pan[i] / op_power\n"
   ]
  },
  {
   "cell_type": "markdown",
   "metadata": {},
   "source": [
    "<!-- ## Get a linear regression model for $\\alpha_{i,j}(T)$ -->"
   ]
  },
  {
   "cell_type": "code",
   "execution_count": null,
   "metadata": {
    "collapsed": false,
    "jupyter": {
     "outputs_hidden": false
    },
    "pycharm": {
     "name": "#%%\n"
    }
   },
   "outputs": [],
   "source": [
    "# from sklearn.linear_model import LinearRegression\n",
    "\n",
    "# meas_shape = meas_panchromatic_clean.shape\n",
    "# lr = LinearRegression()\n",
    "# lr_res = {\"slopes\": np.zeros(\n",
    "#     meas_shape[2:]), \"intercepts\": np.zeros(meas_shape[2:])}\n",
    "# lr_all = np.zeros(meas_shape[2:])\n",
    "\n",
    "# # ## prepare variables for regression:\n",
    "# x = np.array(list_power_panchromatic).repeat(meas_panchromatic_clean.shape[1])[:, np.newaxis]\n",
    "# y = meas_panchromatic_clean.T.reshape(-1, meas_shape[2] * meas_shape[3])\n",
    "\n",
    "\n",
    "# for i in range(meas_shape[2]):\n",
    "#     for j in range(meas_shape[3]):\n",
    "#         lr_ij = lr.fit(x, meas_panchromatic_clean[..., i, j].flatten())\n",
    "#         lr_res[\"slopes\"][i, j] = lr_ij.coef_\n",
    "#         lr_res[\"intercepts\"][i, j] = lr_ij.intercept_\n",
    "\n",
    "\n",
    "# ## Plot results:\n",
    "# import plotly.express as px\n",
    "\n",
    "# fig = px.imshow(lr_res[\"slopes\"], color_continuous_scale='gray', title=\"Linear Regression Slopes Map\")\n",
    "# fig.show()\n",
    "\n",
    "# fig = px.imshow(lr_res[\"intercepts\"], color_continuous_scale='gray', title=\"Linear Regression Intercepts Map\")\n",
    "# fig.show()\n"
   ]
  },
  {
   "cell_type": "markdown",
   "metadata": {},
   "source": [
    "#### Step 2: estimate $\\delta^{(f)}_{i,j}$\n"
   ]
  },
  {
   "cell_type": "markdown",
   "metadata": {},
   "source": [
    "##### Calculate the expected radiance power per filter (2.2) and estimate the per-filter bias $\\hat{\\beta}^{(f)}$ (2.3)"
   ]
  },
  {
   "cell_type": "code",
   "execution_count": null,
   "metadata": {
    "collapsed": false,
    "jupyter": {
     "outputs_hidden": false
    },
    "pycharm": {
     "name": "#%%\n"
    }
   },
   "outputs": [],
   "source": [
    "# import pandas as pd\n",
    "# # for a specific filter, provide the central frequency:\n",
    "\n",
    "# # Prepare containers for processed data:\n",
    "# filters_cw = [filt.value for filt in SpectralFilter if filt.value > 0]\n",
    "# power_filt = pd.DataFrame(index=list_blackbody_temperatures, columns=filters_cw)\n",
    "# beta_filt = power_filt.copy()\n",
    "\n",
    "\n",
    "# # Gather variables required for next block to save redundent calculations:\n",
    "# meas_shape = meas_panchromatic_clean.shape\n",
    "# meas_filt_all = np.empty((len(filters_cw), meas_shape[0], *meas_shape[2:]))\n",
    "\n",
    "# # Process data:\n",
    "# for i, filter_cw in enumerate(filters_cw):\n",
    "#     meas_filt, _, _ = get_meas(path_to_files, SpectralFilter(\n",
    "#         filter_cw), ommit_ops=temps_to_ommit)\n",
    "#     meas_filt_clean = prefilt_cam_meas(meas_filt)\n",
    "#     meas_filt_all[i] = meas_filt_clean.mean(axis=1)\n",
    "#     for temperature in list_blackbody_temperatures:\n",
    "#         power_filt.loc[temperature, filter_cw] = calc_rx_power(\n",
    "#             temperature=temperature, central_wl=filter_cw, bw=1000, is_ideal_filt=False)\n",
    "#         beta_filt.loc[temperature, filter_cw] = meas_filt_clean[i].mean()\n"
   ]
  },
  {
   "cell_type": "markdown",
   "metadata": {},
   "source": [
    "#### Load Panchromatic"
   ]
  },
  {
   "cell_type": "markdown",
   "metadata": {},
   "source": [
    "##### Load Filters"
   ]
  },
  {
   "cell_type": "code",
   "execution_count": null,
   "metadata": {
    "collapsed": false,
    "jupyter": {
     "outputs_hidden": false
    },
    "pycharm": {
     "name": "#%%\n"
    }
   },
   "outputs": [],
   "source": [
    "# dict_measurements = {}\n",
    "\n",
    "# paths = list(path_to_files.glob('*.npy'))\n",
    "# for path in tqdm(paths, desc=\"Load measurements\"):\n",
    "#     temperature_blackbody = int(path.stem.split('_')[-1])\n",
    "#     try:\n",
    "#         meas = np.load(str(path))\n",
    "#     except ValueError:\n",
    "#         print(f'Cannot load file {str(path)}')\n",
    "#         continue\n",
    "#     list_filters = sorted(pd.read_csv(path.with_suffix('.csv')).to_numpy()[:,1])\n",
    "#     for idx, filter_name in enumerate(list_filters):\n",
    "#         dict_measurements.setdefault(temperature_blackbody, {}).setdefault(filter_name, meas[idx])\n",
    "# dict_measurements = {k:dict_measurements[k] for k in sorted(dict_measurements.keys())}\n",
    "# print(f'Available filtes: {list_filters}nm')\n",
    "# list_blackbody_temperatures = list(dict_measurements.keys())\n",
    "# print(f'BlackBody reference temperatures: {list_blackbody_temperatures}C')"
   ]
  }
 ],
 "metadata": {
  "kernelspec": {
   "display_name": "Python 3 (ipykernel)",
   "language": "python",
   "name": "python3"
  },
  "language_info": {
   "codemirror_mode": {
    "name": "ipython",
    "version": 3
   },
   "file_extension": ".py",
   "mimetype": "text/x-python",
   "name": "python",
   "nbconvert_exporter": "python",
   "pygments_lexer": "ipython3",
   "version": "3.8.10"
  }
 },
 "nbformat": 4,
 "nbformat_minor": 4
}
