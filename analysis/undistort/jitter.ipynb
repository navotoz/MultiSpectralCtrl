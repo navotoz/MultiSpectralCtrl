{
 "cells": [
  {
   "cell_type": "markdown",
   "metadata": {},
   "source": [
    "# Jitter issues\n",
    "After closely inspecting panchromatic (as well as filtered) pixels along consequent frames, there seems to be some weired inconsistent trend (jitter) in the obtained grey levels. The dynamic range of the jitter can be as high as 400 Grey levels, which are equivilent to 5-6 degrees.\n",
    "\n",
    "The jitter issue is problematic since it affects the quality of the camera's modeling and calibration, and since an acquisition of a static scene can result in significant unpredictable bias differences.\n",
    "\n",
    "Different configurations of the camera produced different jitter over time.\n",
    "Two main parameters were set:\n",
    "- Flat Field Correction (FFC). This is a calibration process of the camera, where the shutter is closed momenterilly (~0.4 seconds) and an offset value for each pixel is updated from a lookup table, using the internal camera temperature (FPA and Housing temperatures). The FFC can be either performed once in the begining of the measure, or every preset number of frames (e.g, every one minute).\n",
    "- Temperature linear grey levels (Tlinear in short). When active (tlinear1) the grey levels are transformed by the camera such that:\n",
    "    0.04 * GL - 273.15 is the targets temperature (as estimated by the camera). \n",
    "    When inactive (tlinear0), the GL represent the radiation flux on the bolometer array.\n",
    "\n",
    "The following figures shows the effect of several configurations on the jitter."
   ]
  },
  {
   "cell_type": "markdown",
   "metadata": {},
   "source": [
    "The next figure is with *tlinear1*, and *FFC only before the measurements*.\n",
    "As seen, the dynamic range is ~450 GL.\n"
   ]
  },
  {
   "cell_type": "markdown",
   "metadata": {},
   "source": [
    "The next figure is with *tlinear0*, and *FFC every 1 minute*.\n",
    "The dynamic range has improved to ~300GL, which is still a large margin. \n"
   ]
  },
  {
   "cell_type": "markdown",
   "metadata": {},
   "source": [
    "When *tlinear1*, the results can be shown as temperatures with a comparision to the real BlackBody temperautre."
   ]
  },
  {
   "cell_type": "markdown",
   "metadata": {},
   "source": [
    "---"
   ]
  },
  {
   "cell_type": "markdown",
   "metadata": {},
   "source": [
    "below is an example of the jitter in grey levels across 100K consecutively acquired frame (equivalent to ~30 minutes), at different random pixel locations:"
   ]
  },
  {
   "cell_type": "code",
   "execution_count": null,
   "metadata": {},
   "outputs": [],
   "source": [
    "# automaticlly updates imported methods when they change\n",
    "%load_ext autoreload\n",
    "%autoreload 2\n",
    "\n",
    "import sys\n",
    "from pathlib import Path\n",
    "sys.path.append(str(Path().cwd().parent))"
   ]
  },
  {
   "cell_type": "code",
   "execution_count": null,
   "metadata": {
    "collapsed": false,
    "jupyter": {
     "outputs_hidden": false
    },
    "pycharm": {
     "name": "#%%\n"
    }
   },
   "outputs": [],
   "source": [
    "from plots import load_and_plot\n",
    "from time import sleep \n",
    "\n",
    "\n",
    "path_to_files = Path.cwd()\n",
    "while not (path_to_files / \"rawData\").is_dir():\n",
    "    path_to_files = path_to_files.parent\n",
    "path_to_files = path_to_files / \"rawData\" / 'jitter' \n",
    "path_to_files = list(path_to_files.glob('*.pkl'))\n",
    "\n",
    "for path in path_to_files:\n",
    "    load_and_plot(path)\n"
   ]
  }
 ],
 "metadata": {
  "kernelspec": {
   "display_name": "Python 3 (ipykernel)",
   "language": "python",
   "name": "python3"
  },
  "language_info": {
   "codemirror_mode": {
    "name": "ipython",
    "version": 3
   },
   "file_extension": ".py",
   "mimetype": "text/x-python",
   "name": "python",
   "nbconvert_exporter": "python",
   "pygments_lexer": "ipython3",
   "version": "3.8.10"
  }
 },
 "nbformat": 4,
 "nbformat_minor": 4
}
