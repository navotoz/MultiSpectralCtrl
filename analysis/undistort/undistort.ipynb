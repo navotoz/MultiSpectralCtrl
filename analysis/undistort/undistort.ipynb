{
 "cells": [
  {
   "cell_type": "markdown",
   "source": [
    "# LWIR Filters Artifact Undistort"
   ],
   "metadata": {}
  },
  {
   "cell_type": "markdown",
   "source": [
    "# Problem Description\r\n",
    "When capturing real-world scenes using TAU2, an unexpected and unclear spherical distortion appears when applying an IR filter.\r\n",
    "This artifact only appears when applying a filter, as can be seen from the following example:\r\n"
   ],
   "metadata": {}
  },
  {
   "cell_type": "code",
   "execution_count": null,
   "source": [
    "import plotly.express as px\r\n",
    "import plotly.graph_objects as go\r\n",
    "from plotly.subplots import make_subplots\r\n",
    "import numpy as np\r\n",
    "from pathlib import Path\r\n",
    "import matplotlib.pyplot as plt\r\n",
    "\r\n",
    "data_base_dir = Path(\r\n",
    "    r\"C:\\Users\\omriber\\Documents\\Thesis\\MultiSpectralCtrl\\download\")\r\n",
    "\r\n",
    "data_fname = \"cnt1_20210830_h15m53s38.npy\"\r\n",
    "data = np.load(Path(data_base_dir, data_fname))\r\n",
    "\r\n",
    "fig = make_subplots(1, 2)\r\n",
    "fig = px.imshow(data[0, 0], color_continuous_scale='gray',\r\n",
    "                title=\"Pan-Chromatic\")\r\n",
    "\r\n",
    "fig.show()\r\n",
    "fig = px.imshow(data[1, 0], color_continuous_scale='gray', title=\"Filter1\")\r\n",
    "fig.show()\r\n"
   ],
   "outputs": [],
   "metadata": {}
  },
  {
   "cell_type": "markdown",
   "source": [
    "While seemingly similar to vignetting, it's clearly not, as in opposed to vignetting, the center is brighter than the edges (in vignetting its vice-versa)."
   ],
   "metadata": {}
  },
  {
   "cell_type": "markdown",
   "source": [
    "Moreover, many pixels have a higher intensity level when the filter is applied, in contrast to the expected physical phenomenon, by which the grey level is proportional to the radiated power. This can be clerly observed when using the same dynamic range for showing both images:"
   ],
   "metadata": {}
  },
  {
   "cell_type": "code",
   "execution_count": null,
   "source": [
    "fig = px.imshow(data[:2, 0, ...], facet_col=0,\r\n",
    "                color_continuous_scale='gray')\r\n",
    "fig.layout.annotations[0].text=\"Pan-Chromatic\"\r\n",
    "fig.layout.annotations[1].text=\"Filtered\"\r\n",
    "fig.show()\r\n"
   ],
   "outputs": [],
   "metadata": {}
  },
  {
   "cell_type": "markdown",
   "source": [
    "This might suggest that some pre-processing is still occuring during image acquisition, despite being canceled by Navot's commands."
   ],
   "metadata": {}
  },
  {
   "cell_type": "markdown",
   "source": [
    "# Suggested Undistortion Calibration Workflow:\r\n",
    "To overcome the observed distortion, I propose the following workflow:\r\n",
    "* Per spatial pixel i,j:\r\n",
    "    1. Estimate $\\alpha_{i,j}$, the per-pixel scale-factor converting from radiance power to grey-level:\r\n",
    "        1. Capture an unfiltered image (pan-chromatic) of the black-body in several temperature set-points, to obtain a grey level per-pixel $GL_{i,j}$\r\n",
    "        2. Analytically calculate the expected radiance power by integrating over Plank's spectral radiance density $B(\\lambda, T)$: \r\n",
    "            $$P(\\lambda_{0,1}, T) = \\int_{\\lambda_0}^{\\lambda_1} B(\\lambda, T) d\\lambda$$\r\n",
    "            Where $B(\\lambda, T) = \\frac{2h/c^2\\lambda^3}{exp(h/KT\\lambda)-1}$ is Plank's spectral radiance density, and $\\lambda_{0,1}$ should be determined by TAU's natural band-width (After looking at the camera's SPEC, it seems that $\\lambda_0=7.5\\mu m, \\: \\lambda_1=13.5\\mu m$). \r\n",
    "            \r\n",
    "            Alternatively, and assuming an infinite bandwidth with optimal transmission response, we can use the Stefan–Boltzmann law to assert that $P = \\frac{1}{\\pi} \\sigma T^4 $\r\n",
    "        \r\n",
    "        3. Estimate $\\alpha_{i,j}$ using $\\hat{\\alpha}_{i,j} = \\frac{GL_{i,j}}{P}$\r\n",
    "        4. Repeat for every temperature set-point to obtain a (linear) regression model for $\\hat{\\alpha}_{i,j}(T) = a_0T + b_0$\r\n",
    "    2. Estimate $\\beta^{(f)}_{i,j}$, the per-pixel, per-filter distortion correction coefficients. For each filter (f):\r\n",
    "        1. Capture a filtered image of the black-body in several temperature set-points, to obtain a grey level per-pixel $GL^{(f)}_{i,j}$\r\n",
    "        2. Analytically calculate the expected radiance power by integrating over Plank's spectral radiance density $B(\\lambda, T)$: \r\n",
    "            $$P^{(f)}(\\lambda_{0,1}, T) = \\int_{\\lambda_0}^{\\lambda_1} B(\\lambda, T) f(\\lambda) d\\lambda$$\r\n",
    "            Where now $\\lambda_{0,1}$ are determinde by the filter's band-width, and $f(\\lambda)$ is the filter's transmitanse response. This time, as a significant portion of the spectrum is cut-off, the Stefan–Boltzmann law can no longer be used to approximate the integral.\r\n",
    "        3. Use $\\alpha_{i,j}$ obtained from the pan-chromatic images to estimate the expected grey-level using $\\hat{GL^{(f)}_{i,j}} = \\hat{\\alpha}_{i,j} \\cdot P^{(f)}$\r\n",
    "        4. Estimate $\\beta^{(f)}_{i,j}$ using $\\hat{\\beta}^{(f)}_{i,j} = \\frac{\\hat{GL^{(f)}_{i,j}}}{GL^{(f)}_{i,j}}$\r\n",
    "        5. Repeat for every temperature set-point to obtain a (linear) regression model for $\\hat{\\beta}^{(f)}_{i,j}(T) = a_1T + b_1$\r\n"
   ],
   "metadata": {
    "tags": []
   }
  },
  {
   "cell_type": "markdown",
   "source": [
    "# Calculating the Power-Radiance P:\r\n",
    "use the API as depicted below:"
   ],
   "metadata": {}
  },
  {
   "cell_type": "code",
   "execution_count": null,
   "source": [
    "from tools import calc_rx_power\r\n",
    "import numpy as np\r\n",
    "import matplotlib.pyplot as plt\r\n",
    "# for pan-chromatic, currently using an ideal, infinitely wide bandwidth filter assumption\r\n",
    "rx_power = calc_rx_power(temperature=32, debug=True)\r\n",
    "\r\n",
    "\r\n",
    "# for a specific filter, provide the central frequency:\r\n",
    "lambda_c = 9000 #[nm]\r\n",
    "rx_power = calc_rx_power(temperature=32, central_wl=lambda_c, bw=1000, is_ideal_filt=False, debug=True)\r\n"
   ],
   "outputs": [],
   "metadata": {}
  },
  {
   "cell_type": "markdown",
   "source": [
    "To avoid generating the figures each time the calculation is invoked, simply set debug=false (or completely remove it as an argument)"
   ],
   "metadata": {}
  },
  {
   "cell_type": "markdown",
   "source": [
    "---"
   ],
   "metadata": {}
  },
  {
   "cell_type": "markdown",
   "source": [
    "# Step 1"
   ],
   "metadata": {}
  },
  {
   "cell_type": "markdown",
   "source": [
    "## Prepare the data and imports:"
   ],
   "metadata": {}
  },
  {
   "cell_type": "code",
   "execution_count": null,
   "source": [
    "# automaticlly updates imported methods when they change\r\n",
    "%load_ext autoreload\r\n",
    "%autoreload 2\r\n",
    "\r\n",
    "from tools import calc_rx_power, load_npy_into_dict, plot_gl_as_func_temp, get_panchromatic_meas, \\\r\n",
    "        plot_regression_p_vs_p, plot_regression_diff\r\n",
    "import matplotlib.pyplot as plt\r\n",
    "import numpy as np\r\n",
    "from multiprocessing import Pool, cpu_count\r\n",
    "from scipy.optimize import nnls\r\n",
    "from itertools import product\r\n",
    "from tqdm import tqdm\r\n",
    "from pathlib import Path\r\n",
    "\r\n",
    "path_to_files = Path(\"rawData/09_09_21\")\r\n",
    "meas_panchromatic, list_power_panchormatic, list_blackbody_temperatures = get_panchromatic_meas(path_to_files)"
   ],
   "outputs": [],
   "metadata": {}
  },
  {
   "cell_type": "markdown",
   "source": [
    "## Pan-Chromatic case"
   ],
   "metadata": {}
  },
  {
   "cell_type": "markdown",
   "source": [
    "### Load Panchromatic"
   ],
   "metadata": {}
  },
  {
   "cell_type": "code",
   "execution_count": null,
   "source": [
    "h, w = meas_panchromatic.shape[-2:]\r\n",
    "power_pancromatic = np.stack([np.ones(meas_panchromatic.shape[1:]) * p for p in list_power_panchormatic])\r\n",
    "print(f'The shape of the measurements and power: {meas_panchromatic.shape}')"
   ],
   "outputs": [],
   "metadata": {}
  },
  {
   "cell_type": "markdown",
   "source": [
    "### Plot GL as a function of Temperature"
   ],
   "metadata": {}
  },
  {
   "cell_type": "code",
   "execution_count": null,
   "source": [
    "plot_gl_as_func_temp(meas=meas_panchromatic, list_blackbody_temperatures=list_blackbody_temperatures, n_pixels_to_plot=4)"
   ],
   "outputs": [],
   "metadata": {}
  },
  {
   "cell_type": "markdown",
   "source": [
    "### Regression of P"
   ],
   "metadata": {}
  },
  {
   "cell_type": "code",
   "execution_count": null,
   "source": [
    "def _regress(idx):\r\n",
    "    h_, w_ = idx\r\n",
    "    return nnls(A=meas_panchromatic[..., h_, w_].ravel()[:, None], b=power_pancromatic[..., h_, w_].ravel())[0]\r\n",
    "\r\n",
    "n_features, n_samples  = np.prod(power_pancromatic.shape[:2]), np.prod(power_pancromatic.shape[-2:])\r\n",
    "with Pool(cpu_count()) as pool:\r\n",
    "    est_power_panchromatic = np.array(list(tqdm(pool.imap(_regress, product(range(h),range(w)),\r\n",
    "                                                   chunksize=1), total=n_samples, desc='Regression')))\r\n",
    "est_power_panchromatic = est_power_panchromatic.reshape(h,w).astype('float')[None, None, ...]\r\n",
    "est_power_panchromatic = est_power_panchromatic * meas_panchromatic\r\n",
    "est_power_panchromatic = est_power_panchromatic.mean(1)"
   ],
   "outputs": [],
   "metadata": {}
  },
  {
   "cell_type": "markdown",
   "source": [
    "#### Plot regression results"
   ],
   "metadata": {}
  },
  {
   "cell_type": "code",
   "execution_count": null,
   "source": [
    "plot_regression_p_vs_p(list_power_panchormatic, est_power_panchromatic)"
   ],
   "outputs": [],
   "metadata": {}
  },
  {
   "cell_type": "markdown",
   "source": [
    "#### Plot differences between real and estimated power"
   ],
   "metadata": {}
  },
  {
   "cell_type": "code",
   "execution_count": null,
   "source": [
    "plot_regression_diff(list_power_panchormatic, est_power_panchromatic)"
   ],
   "outputs": [],
   "metadata": {}
  },
  {
   "cell_type": "markdown",
   "source": [
    "### Plot P as a function of BlackBody Temperature"
   ],
   "metadata": {}
  },
  {
   "cell_type": "code",
   "execution_count": null,
   "source": [
    "n_pixels_to_plot = 10\r\n",
    "pixels = list(product(range(h),range(w)))\r\n",
    "np.random.shuffle(pixels)\r\n",
    "pixels = pixels[:n_pixels_to_plot]\r\n",
    "\r\n",
    "for h_,w_ in pixels:\r\n",
    "    plt.figure()\r\n",
    "#     plt.plot(x=,y=,label=)\r\n",
    "    plt.scatter(x=list_blackbody_temperatures, y=power_pancromatic.reshape(len(list_power_panchormatic), -1, h,w).mean(1)[:, h_, w_], label='Model')\r\n",
    "    plt.scatter(x=list_blackbody_temperatures, y=est_power_panchormatic.mean(1)[:, h_, w_], label='Estimation')\r\n",
    "    plt.legend()\r\n",
    "    plt.grid()\r\n",
    "    plt.show()\r\n",
    "    plt.close()\r\n",
    "    break"
   ],
   "outputs": [],
   "metadata": {}
  },
  {
   "cell_type": "markdown",
   "source": [
    "## Monochromatic case"
   ],
   "metadata": {}
  },
  {
   "cell_type": "markdown",
   "source": [
    "### Calculate $\\alpha$ per filter"
   ],
   "metadata": {}
  },
  {
   "cell_type": "code",
   "execution_count": null,
   "source": [],
   "outputs": [],
   "metadata": {}
  },
  {
   "cell_type": "markdown",
   "source": [
    "### Plot GL as a function of Temperature per filter"
   ],
   "metadata": {}
  },
  {
   "cell_type": "code",
   "execution_count": null,
   "source": [],
   "outputs": [],
   "metadata": {}
  },
  {
   "cell_type": "markdown",
   "source": [
    "### Load Filters"
   ],
   "metadata": {}
  },
  {
   "cell_type": "code",
   "execution_count": null,
   "source": [
    "dict_measurements = {}\r\n",
    "\r\n",
    "paths = list(path_to_files.glob('*.npy'))\r\n",
    "for path in tqdm(paths, desc=\"Load measurements\"):\r\n",
    "    temperature_blackbody = int(path.stem.split('_')[-1])\r\n",
    "    try:\r\n",
    "        meas = np.load(str(path))\r\n",
    "    except ValueError:\r\n",
    "        print(f'Cannot load file {str(path)}')\r\n",
    "        continue\r\n",
    "    list_filters = sorted(pd.read_csv(path.with_suffix('.csv')).to_numpy()[:,1])\r\n",
    "    for idx, filter_name in enumerate(list_filters):\r\n",
    "        dict_measurements.setdefault(temperature_blackbody, {}).setdefault(filter_name, meas[idx])\r\n",
    "dict_measurements = {k:dict_measurements[k] for k in sorted(dict_measurements.keys())}\r\n",
    "print(f'Available filtes: {list_filters}nm')\r\n",
    "list_blackbody_temperatures = list(dict_measurements.keys())\r\n",
    "print(f'BlackBody reference temperatures: {list_blackbody_temperatures}C')"
   ],
   "outputs": [],
   "metadata": {}
  }
 ],
 "metadata": {
  "interpreter": {
   "hash": "d6fdb2f10c862e3b8ec797146a806c7f5a799b3e249dc108185048971736e6e3"
  },
  "kernelspec": {
   "name": "python3",
   "display_name": "Python 3.9.7 64-bit ('venv': venv)"
  },
  "language_info": {
   "codemirror_mode": {
    "name": "ipython",
    "version": 3
   },
   "file_extension": ".py",
   "mimetype": "text/x-python",
   "name": "python",
   "nbconvert_exporter": "python",
   "pygments_lexer": "ipython3",
   "version": "3.9.7"
  }
 },
 "nbformat": 4,
 "nbformat_minor": 4
}