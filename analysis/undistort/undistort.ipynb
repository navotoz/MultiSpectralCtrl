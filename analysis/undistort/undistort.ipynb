{
 "cells": [
  {
   "cell_type": "markdown",
   "metadata": {},
   "source": [
    "# LWIR Filters Artifact Undistort"
   ]
  },
  {
   "cell_type": "markdown",
   "metadata": {},
   "source": [
    "# Problem Description\n",
    "When capturing real-world scenes using TAU2, an unexpected and unclear spherical distortion appears when applying an IR filter.\n",
    "This artifact only appears when applying a filter, as can be seen from the following example:\n"
   ]
  },
  {
   "cell_type": "code",
   "execution_count": null,
   "metadata": {},
   "outputs": [],
   "source": [
    "import plotly.express as px\n",
    "import plotly.graph_objects as go\n",
    "from plotly.subplots import make_subplots\n",
    "import numpy as np\n",
    "from pathlib import Path\n",
    "import matplotlib.pyplot as plt\n",
    "\n",
    "data_base_dir = Path(\n",
    "    r\"C:\\Users\\omriber\\Documents\\Thesis\\MultiSpectralCtrl\\download\")\n",
    "\n",
    "data_fname = \"cnt1_20210830_h15m53s38.npy\"\n",
    "data = np.load(Path(data_base_dir, data_fname))\n",
    "\n",
    "fig = make_subplots(1, 2)\n",
    "fig = px.imshow(data[0, 0], color_continuous_scale='gray',\n",
    "                title=\"Pan-Chromatic\")\n",
    "\n",
    "fig.show()\n",
    "fig = px.imshow(data[1, 0], color_continuous_scale='gray', title=\"Filter1\")\n",
    "fig.show()\n"
   ]
  },
  {
   "cell_type": "markdown",
   "metadata": {},
   "source": [
    "While seemingly similar to vignetting, it's clearly not, as in opposed to vignetting, the center is brighter than the edges (in vignetting its vice-versa)."
   ]
  },
  {
   "cell_type": "markdown",
   "metadata": {},
   "source": [
    "Moreover, many pixels have a higher intensity level when the filter is applied, in contrast to the expected physical phenomenon, by which the grey level is proportional to the radiated power. This can be clerly observed when using the same dynamic range for showing both images:"
   ]
  },
  {
   "cell_type": "code",
   "execution_count": null,
   "metadata": {},
   "outputs": [],
   "source": [
    "fig = px.imshow(data[:2, 0, ...], facet_col=0,\n",
    "                color_continuous_scale='gray')\n",
    "fig.layout.annotations[0].text=\"Pan-Chromatic\"\n",
    "fig.layout.annotations[1].text=\"Filtered\"\n",
    "fig.show()\n"
   ]
  },
  {
   "cell_type": "markdown",
   "metadata": {},
   "source": [
    "This might suggest that some pre-processing is still occuring during image acquisition, despite being canceled by Navot's commands."
   ]
  },
  {
   "cell_type": "markdown",
   "metadata": {
    "tags": []
   },
   "source": [
    "# Suggested Undistortion Calibration Workflow:\n",
    "To overcome the observed distortion, I propose the following workflow:\n",
    "* Per spatial pixel i,j:\n",
    "    1. Estimate $\\alpha_{i,j}$, the per-pixel scale-factor converting from radiance power to grey-level:\n",
    "        1. Capture an unfiltered image (pan-chromatic) of the black-body in several temperature set-points, to obtain a grey level per-pixel $GL_{i,j}$\n",
    "        2. Analytically calculate the expected radiance power by integrating over Plank's spectral radiance density $B(\\lambda, T)$: \n",
    "            $$P(\\lambda_{0,1}, T) = \\int_{\\lambda_0}^{\\lambda_1} B(\\lambda, T) d\\lambda$$\n",
    "            Where $B(\\lambda, T) = \\frac{2h/c^2\\lambda^3}{exp(h/KT\\lambda)-1}$ is Plank's spectral radiance density, and $\\lambda_{0,1}$ should be determined by TAU's natural band-width. \n",
    "            \n",
    "            Alternatively, and assuming an infinite bandwidth with optimal transmission response, we can use the Stefan–Boltzmann law to assert that $P = \\frac{1}{\\pi} \\sigma T^4 $\n",
    "        \n",
    "        3. Estimate $\\alpha_{i,j}$ using $\\hat{\\alpha}_{i,j} = \\frac{GL_{i,j}}{P}$\n",
    "        4. Repeat for every temperature set-point to obtain a (linear) regression model for $\\hat{\\alpha}_{i,j}(T) = a_0T + b_0$\n",
    "    2. Estimate $\\beta^{(f)}_{i,j}$, the per-pixel, per-filter distortion correction coefficients. For each filter (f):\n",
    "        1. Capture a filtered image of the black-body in several temperature set-points, to obtain a grey level per-pixel $GL^{(f)}_{i,j}$\n",
    "        2. Analytically calculate the expected radiance power by integrating over Plank's spectral radiance density $B(\\lambda, T)$: \n",
    "            $$P^{(f)}(\\lambda_{0,1}, T) = \\int_{\\lambda_0}^{\\lambda_1} B(\\lambda, T) f(\\lambda) d\\lambda$$\n",
    "            Where now $\\lambda_{0,1}$ are determinde by the filter's band-width, and $f(\\lambda)$ is the filter's transmitanse response. This time, as a significant portion of the spectrum is cut-off, the Stefan–Boltzmann law can no longer be used to approximate the integral.\n",
    "        3. Use $\\alpha_{i,j}$ obtained from the pan-chromatic images to estimate the expected grey-level using $\\hat{GL^{(f)}_{i,j}} = \\hat{\\alpha}_{i,j} \\cdot P^{(f)}$\n",
    "        4. Estimate $\\beta^{(f)}_{i,j}$ using $\\hat{\\beta}^{(f)}_{i,j} = \\frac{\\hat{GL^{(f)}_{i,j}}}{GL^{(f)}_{i,j}}$\n",
    "        5. Repeat for every temperature set-point to obtain a (linear) regression model for $\\hat{\\beta}^{(f)}_{i,j}(T) = a_1T + b_1$\n"
   ]
  },
  {
   "cell_type": "markdown",
   "metadata": {},
   "source": [
    "# Calculating the Power-Radiance P:\n",
    "use the API as depicted below:"
   ]
  },
  {
   "cell_type": "code",
   "execution_count": null,
   "metadata": {},
   "outputs": [],
   "source": [
    "from tools import calcRxPower\n",
    "import numpy as np\n",
    "import matplotlib.pyplot as plt\n",
    "# for pan-chromatic, currently using an ideal, infinitely wide bandwidth filter assumption\n",
    "rx_power = calcRxPower(temperature=32,  central_wl=0, bw=np.inf, is_ideal_filt=True, debug=True)\n",
    "\n",
    "\n",
    "# for a specific filter, provide the central frequency:\n",
    "lambda_c = 9000 #[nm]\n",
    "rx_power = calcRxPower(temperature=32, central_wl=lambda_c, debug=True)\n"
   ]
  },
  {
   "cell_type": "markdown",
   "metadata": {},
   "source": [
    "To avoid generating the figures each time the calculation is invoked, simply set debug=false (or completely remove it as an argument)"
   ]
  },
  {
   "cell_type": "markdown",
   "metadata": {},
   "source": [
    "---"
   ]
  },
  {
   "cell_type": "markdown",
   "metadata": {},
   "source": [
    "# Step 1"
   ]
  },
  {
   "cell_type": "code",
   "execution_count": null,
   "metadata": {},
   "outputs": [],
   "source": [
    "# automaticlly updates imported methods when they change\n",
    "%load_ext autoreload\n",
    "%autoreload 2\n",
    "\n",
    "from tools import calcRxPower, load_npy_into_dict, plot_gl_as_func_temp, get_panchromatic_meas, \\\n",
    "        plot_regression_p_vs_p, plot_regression_diff\n",
    "import matplotlib.pyplot as plt\n",
    "import numpy as np\n",
    "from multiprocessing import Pool, cpu_count\n",
    "from scipy.optimize import nnls\n",
    "from itertools import product\n",
    "from tqdm import tqdm\n",
    "from pathlib import Path\n",
    "\n",
    "path_to_files = Path('/home/navot/Downloads')"
   ]
  },
  {
   "cell_type": "markdown",
   "metadata": {},
   "source": [
    "## Pan-Chromatic case"
   ]
  },
  {
   "cell_type": "markdown",
   "metadata": {},
   "source": [
    "### Load Panchromatic"
   ]
  },
  {
   "cell_type": "code",
   "execution_count": null,
   "metadata": {},
   "outputs": [],
   "source": [
    "meas_panchromatic, list_power_panchormatic, list_blackbody_temperatures = get_panchromatic_meas(path_to_files)\n",
    "h, w = meas_panchromatic.shape[-2:]\n",
    "power_pancromatic = np.stack([np.ones(meas_panchromatic.shape[1:]) * p for p in list_power_panchormatic])\n",
    "print(f'The shape of the measurements and power: {meas_panchromatic.shape}')"
   ]
  },
  {
   "cell_type": "markdown",
   "metadata": {},
   "source": [
    "### Plot GL as a function of Temperature"
   ]
  },
  {
   "cell_type": "code",
   "execution_count": null,
   "metadata": {},
   "outputs": [],
   "source": [
    "plot_gl_as_func_temp(meas=meas_panchromatic, list_blackbody_temperatures=list_blackbody_temperatures, n_pixels_to_plot=4)"
   ]
  },
  {
   "cell_type": "markdown",
   "metadata": {},
   "source": [
    "### Regression of P"
   ]
  },
  {
   "cell_type": "code",
   "execution_count": null,
   "metadata": {},
   "outputs": [],
   "source": [
    "def _regress(idx):\n",
    "    h_, w_ = idx\n",
    "    return nnls(A=meas_panchromatic[..., h_, w_].ravel()[:, None], b=power_pancromatic[..., h_, w_].ravel())[0]\n",
    "\n",
    "n_features, n_samples  = np.prod(power_pancromatic.shape[:2]), np.prod(power_pancromatic.shape[-2:])\n",
    "with Pool(cpu_count()) as pool:\n",
    "    est_power_panchromatic = np.array(list(tqdm(pool.imap(_regress, product(range(h),range(w)),\n",
    "                                                   chunksize=1), total=n_samples, desc='Regression')))\n",
    "est_power_panchromatic = est_power_panchromatic.reshape(h,w).astype('float')[None, None, ...]\n",
    "est_power_panchromatic = est_power_panchromatic * meas_panchromatic\n",
    "est_power_panchromatic = est_power_panchromatic.mean(1)"
   ]
  },
  {
   "cell_type": "markdown",
   "metadata": {},
   "source": [
    "#### Plot regression results"
   ]
  },
  {
   "cell_type": "code",
   "execution_count": null,
   "metadata": {},
   "outputs": [],
   "source": [
    "plot_regression_p_vs_p(list_power_panchormatic, est_power_panchromatic)"
   ]
  },
  {
   "cell_type": "markdown",
   "metadata": {},
   "source": [
    "#### Plot differences between real and estimated power"
   ]
  },
  {
   "cell_type": "code",
   "execution_count": null,
   "metadata": {},
   "outputs": [],
   "source": [
    "plot_regression_diff(list_power_panchormatic, est_power_panchromatic)"
   ]
  },
  {
   "cell_type": "markdown",
   "metadata": {},
   "source": [
    "### Plot P as a function of BlackBody Temperature"
   ]
  },
  {
   "cell_type": "code",
   "execution_count": null,
   "metadata": {},
   "outputs": [],
   "source": [
    "n_pixels_to_plot = 10\n",
    "pixels = list(product(range(h),range(w)))\n",
    "np.random.shuffle(pixels)\n",
    "pixels = pixels[:n_pixels_to_plot]\n",
    "\n",
    "for h_,w_ in pixels:\n",
    "    plt.figure()\n",
    "#     plt.plot(x=,y=,label=)\n",
    "    plt.scatter(x=list_blackbody_temperatures, y=power_pancromatic.reshape(len(list_power_panchormatic), -1, h,w).mean(1)[:, h_, w_], label='Model')\n",
    "    plt.scatter(x=list_blackbody_temperatures, y=est_power_panchormatic.mean(1)[:, h_, w_], label='Estimation')\n",
    "    plt.legend()\n",
    "    plt.grid()\n",
    "    plt.show()\n",
    "    plt.close()\n",
    "    break"
   ]
  },
  {
   "cell_type": "markdown",
   "metadata": {},
   "source": [
    "## Monochromatic case"
   ]
  },
  {
   "cell_type": "markdown",
   "metadata": {},
   "source": [
    "### Calculate $\\alpha$ per filter"
   ]
  },
  {
   "cell_type": "code",
   "execution_count": null,
   "metadata": {},
   "outputs": [],
   "source": []
  },
  {
   "cell_type": "markdown",
   "metadata": {},
   "source": [
    "### Plot GL as a function of Temperature per filter"
   ]
  },
  {
   "cell_type": "code",
   "execution_count": null,
   "metadata": {},
   "outputs": [],
   "source": []
  },
  {
   "cell_type": "markdown",
   "metadata": {},
   "source": [
    "### Load Filters"
   ]
  },
  {
   "cell_type": "code",
   "execution_count": null,
   "metadata": {},
   "outputs": [],
   "source": [
    "dict_measurements = {}\n",
    "\n",
    "paths = list(path_to_files.glob('*.npy'))\n",
    "for path in tqdm(paths, desc=\"Load measurements\"):\n",
    "    temperature_blackbody = int(path.stem.split('_')[-1])\n",
    "    try:\n",
    "        meas = np.load(str(path))\n",
    "    except ValueError:\n",
    "        print(f'Cannot load file {str(path)}')\n",
    "        continue\n",
    "    list_filters = sorted(pd.read_csv(path.with_suffix('.csv')).to_numpy()[:,1])\n",
    "    for idx, filter_name in enumerate(list_filters):\n",
    "        dict_measurements.setdefault(temperature_blackbody, {}).setdefault(filter_name, meas[idx])\n",
    "dict_measurements = {k:dict_measurements[k] for k in sorted(dict_measurements.keys())}\n",
    "print(f'Available filtes: {list_filters}nm')\n",
    "list_blackbody_temperatures = list(dict_measurements.keys())\n",
    "print(f'BlackBody reference temperatures: {list_blackbody_temperatures}C')"
   ]
  }
 ],
 "metadata": {
  "interpreter": {
   "hash": "d8375025aea390d21ac2eb4d38e3fe0d2c4732417b55b8ccc6fa449bb8865309"
  },
  "kernelspec": {
   "display_name": "Python 3 (ipykernel)",
   "language": "python",
   "name": "python3"
  },
  "language_info": {
   "codemirror_mode": {
    "name": "ipython",
    "version": 3
   },
   "file_extension": ".py",
   "mimetype": "text/x-python",
   "name": "python",
   "nbconvert_exporter": "python",
   "pygments_lexer": "ipython3",
   "version": "3.8.10"
  }
 },
 "nbformat": 4,
 "nbformat_minor": 4
}
